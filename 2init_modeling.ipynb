{
 "cells": [
  {
   "cell_type": "markdown",
   "metadata": {},
   "source": [
    "#### Initial Development"
   ]
  },
  {
   "cell_type": "markdown",
   "metadata": {},
   "source": [
    "First run models on basic Train-Test Split"
   ]
  },
  {
   "cell_type": "code",
   "execution_count": 2,
   "metadata": {},
   "outputs": [],
   "source": [
    "import pandas as pd\n",
    "from sklearn.model_selection import train_test_split\n",
    "from sklearn.metrics import mean_squared_error, r2_score, mean_absolute_error\n",
    "\n",
    "df = pd.read_csv('clean_data.csv')\n",
    "\n",
    "X = df.drop('Price', axis=1)\n",
    "y = df['Price']\n",
    "\n",
    "# Split the data into training and testing sets (80/20 split)\n",
    "X_train, X_test, y_train, y_test = train_test_split(X, y, test_size=.2, random_state=42)"
   ]
  },
  {
   "cell_type": "markdown",
   "metadata": {},
   "source": [
    "Linear Regression"
   ]
  },
  {
   "cell_type": "code",
   "execution_count": 3,
   "metadata": {},
   "outputs": [
    {
     "name": "stdout",
     "output_type": "stream",
     "text": [
      "MSE: 138194061946.39297\n",
      "RMSE: 371744.61925681314\n",
      "MAE: 251502.86452095807\n",
      "R-squared: 0.6501071412030586\n"
     ]
    }
   ],
   "source": [
    "from sklearn.linear_model import LinearRegression\n",
    "\n",
    "lr_model = LinearRegression()\n",
    "\n",
    "# Fit the model on the training data\n",
    "lr_model.fit(X_train, y_train)\n",
    "\n",
    "# Predict on the test data\n",
    "y_pred_lr = lr_model.predict(X_test)\n",
    "\n",
    "# Evaluate Performance\n",
    "print(f\"MSE: {mean_squared_error(y_test, y_pred_lr)}\")\n",
    "print(f\"RMSE: {mean_squared_error(y_test, y_pred_lr, squared=False)}\")\n",
    "print(f\"MAE: {mean_absolute_error(y_test, y_pred_lr)}\")\n",
    "print(f\"R-squared: {r2_score(y_test, y_pred_lr)}\")"
   ]
  },
  {
   "cell_type": "markdown",
   "metadata": {},
   "source": [
    "KNN Regression"
   ]
  },
  {
   "cell_type": "code",
   "execution_count": 4,
   "metadata": {},
   "outputs": [
    {
     "name": "stdout",
     "output_type": "stream",
     "text": [
      "MSE: 129542766532.88054\n",
      "RMSE: 359920.5002953854\n",
      "MAE: 228576.79461077845\n",
      "R-squared: 0.6720113130748206\n"
     ]
    }
   ],
   "source": [
    "from sklearn.neighbors import KNeighborsRegressor\n",
    "\n",
    "knn_model = KNeighborsRegressor(n_neighbors=5)\n",
    "\n",
    "# Fit the model on the training data\n",
    "knn_model.fit(X_train, y_train)\n",
    "\n",
    "# Predict on the test data\n",
    "y_pred_knn = knn_model.predict(X_test)\n",
    "\n",
    "# Evaluate Performance\n",
    "print(f\"MSE: {mean_squared_error(y_test, y_pred_knn)}\")\n",
    "print(f\"RMSE: {mean_squared_error(y_test, y_pred_knn, squared=False)}\")\n",
    "print(f\"MAE: {mean_absolute_error(y_test, y_pred_knn)}\")\n",
    "print(f\"R-squared: {r2_score(y_test, y_pred_knn)}\")"
   ]
  },
  {
   "cell_type": "markdown",
   "metadata": {},
   "source": [
    "Decision Tree Regression"
   ]
  },
  {
   "cell_type": "code",
   "execution_count": 5,
   "metadata": {},
   "outputs": [
    {
     "name": "stdout",
     "output_type": "stream",
     "text": [
      "MSE: 136339090239.02507\n",
      "RMSE: 369241.23583238246\n",
      "MAE: 225592.9098053892\n",
      "R-squared: 0.6548037348521415\n"
     ]
    }
   ],
   "source": [
    "from sklearn.tree import DecisionTreeRegressor\n",
    "\n",
    "dtree_model = DecisionTreeRegressor(random_state=42)\n",
    "\n",
    "# Fit the model on the training data\n",
    "dtree_model.fit(X_train, y_train)\n",
    "\n",
    "# Predict on the test data\n",
    "y_pred_dtree = dtree_model.predict(X_test)\n",
    "\n",
    "# Evaluate Performance\n",
    "print(f\"MSE: {mean_squared_error(y_test, y_pred_dtree)}\")\n",
    "print(f\"RMSE: {mean_squared_error(y_test, y_pred_dtree, squared=False)}\")\n",
    "print(f\"MAE: {mean_absolute_error(y_test, y_pred_dtree)}\")\n",
    "print(f\"R-squared: {r2_score(y_test, y_pred_dtree)}\")"
   ]
  },
  {
   "cell_type": "markdown",
   "metadata": {},
   "source": [
    "XGBoost"
   ]
  },
  {
   "cell_type": "code",
   "execution_count": 6,
   "metadata": {},
   "outputs": [
    {
     "name": "stdout",
     "output_type": "stream",
     "text": [
      "MSE: 64681457988.97476\n",
      "RMSE: 254325.4961441632\n",
      "MAE: 160174.89092323167\n",
      "R-squared: 0.8362333379006134\n"
     ]
    }
   ],
   "source": [
    "from xgboost import XGBRegressor\n",
    "\n",
    "xgb_model = XGBRegressor(random_state=42)\n",
    "\n",
    "# Fit the model on the training data\n",
    "xgb_model.fit(X_train, y_train)\n",
    "\n",
    "# Predict on the test data\n",
    "y_pred_xgb = xgb_model.predict(X_test)\n",
    "\n",
    "# Evaluate Performance\n",
    "print(f\"MSE: {mean_squared_error(y_test, y_pred_xgb)}\")\n",
    "print(f\"RMSE: {mean_squared_error(y_test, y_pred_xgb, squared=False)}\")\n",
    "print(f\"MAE: {mean_absolute_error(y_test, y_pred_xgb)}\")\n",
    "print(f\"R-squared: {r2_score(y_test, y_pred_xgb)}\")"
   ]
  },
  {
   "cell_type": "markdown",
   "metadata": {},
   "source": [
    "See how the 5 models compare"
   ]
  },
  {
   "cell_type": "code",
   "execution_count": 149,
   "metadata": {},
   "outputs": [
    {
     "data": {
      "text/plain": [
       "{'xg': 0.8362333379006134,\n",
       " 'knn': 0.6720113130748206,\n",
       " 'dt': 0.6548037348521415,\n",
       " 'lr': 0.6501071412030586}"
      ]
     },
     "execution_count": 149,
     "metadata": {},
     "output_type": "execute_result"
    }
   ],
   "source": [
    "r2_dict =  {'lr':0.6501071412030586, 'knn': 0.6720113130748206,'dt': 0.6548037348521415, \"xg\": 0.8362333379006134}\n",
    "r2_dict = dict(sorted(r2_dict.items(), key=lambda item: item[1], reverse=True))\n",
    "r2_dict"
   ]
  },
  {
   "cell_type": "code",
   "execution_count": 150,
   "metadata": {},
   "outputs": [
    {
     "data": {
      "text/plain": [
       "{'xg': 160174.89092323167,\n",
       " 'dt': 225592.9098053892,\n",
       " 'knn': 228576.79461077845,\n",
       " 'lr': 251502.86452095807}"
      ]
     },
     "execution_count": 150,
     "metadata": {},
     "output_type": "execute_result"
    }
   ],
   "source": [
    "mae_dict =  {'lr':251502.86452095807, 'knn': 228576.79461077845,'dt': 225592.9098053892, \"xg\": 160174.89092323167}\n",
    "mae_dict = dict(sorted(mae_dict.items(), key=lambda item: item[1], reverse=False))\n",
    "mae_dict"
   ]
  },
  {
   "cell_type": "code",
   "execution_count": 151,
   "metadata": {},
   "outputs": [
    {
     "data": {
      "text/plain": [
       "{'xg': 254325.4961441632,\n",
       " 'knn': 359920.5002953854,\n",
       " 'dt': 369241.23583238246,\n",
       " 'lr': 371744.61925681314}"
      ]
     },
     "execution_count": 151,
     "metadata": {},
     "output_type": "execute_result"
    }
   ],
   "source": [
    "rmse_dict =  {'lr': 371744.61925681314, 'knn': 359920.5002953854,'dt': 369241.23583238246, \"xg\": 254325.4961441632}\n",
    "rmse_dict = dict(sorted(rmse_dict.items(), key=lambda item: item[1], reverse=False))\n",
    "rmse_dict"
   ]
  }
 ],
 "metadata": {
  "kernelspec": {
   "display_name": "Python 3",
   "language": "python",
   "name": "python3"
  },
  "language_info": {
   "codemirror_mode": {
    "name": "ipython",
    "version": 3
   },
   "file_extension": ".py",
   "mimetype": "text/x-python",
   "name": "python",
   "nbconvert_exporter": "python",
   "pygments_lexer": "ipython3",
   "version": "3.10.12"
  }
 },
 "nbformat": 4,
 "nbformat_minor": 2
}
