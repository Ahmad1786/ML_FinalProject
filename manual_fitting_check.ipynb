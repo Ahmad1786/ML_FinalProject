{
 "cells": [
  {
   "cell_type": "code",
   "execution_count": 4,
   "metadata": {},
   "outputs": [],
   "source": [
    "import pandas as pd\n",
    "from sklearn.model_selection import train_test_split\n",
    "from sklearn.metrics import mean_squared_error, r2_score, mean_absolute_error\n",
    "\n",
    "df = pd.read_csv('clean_data.csv')\n",
    "\n",
    "X = df.drop('Price', axis=1)\n",
    "y = df['Price']\n",
    "\n",
    "# Split the data into training and testing sets (80/20 split)\n",
    "X_train, X_test, y_train, y_test = train_test_split(X, y, test_size=.2, random_state=42)"
   ]
  },
  {
   "cell_type": "code",
   "execution_count": 11,
   "metadata": {},
   "outputs": [
    {
     "name": "stdout",
     "output_type": "stream",
     "text": [
      "MSE: 136339090239.02507\n",
      "RMSE: 369241.23583238246\n",
      "MAE: 225592.9098053892\n",
      "R-squared: 0.6548037348521415\n"
     ]
    }
   ],
   "source": [
    "from sklearn.tree import DecisionTreeRegressor\n",
    "\n",
    "dtree_model = DecisionTreeRegressor(random_state=42)\n",
    "\n",
    "# Fit the model on the training data\n",
    "dtree_model.fit(X_train, y_train)\n",
    "\n",
    "# Predict on the test data\n",
    "y_pred_dtree = dtree_model.predict(X_test)\n",
    "\n",
    "# Evaluate Performance\n",
    "print(f\"MSE: {mean_squared_error(y_test, y_pred_dtree)}\")\n",
    "print(f\"RMSE: {mean_squared_error(y_test, y_pred_dtree, squared=False)}\")\n",
    "print(f\"MAE: {mean_absolute_error(y_test, y_pred_dtree)}\")\n",
    "print(f\"R-squared: {r2_score(y_test, y_pred_dtree)}\")"
   ]
  },
  {
   "cell_type": "code",
   "execution_count": 12,
   "metadata": {},
   "outputs": [
    {
     "name": "stdout",
     "output_type": "stream",
     "text": [
      "MSE: 394509.68466361\n",
      "RMSE: 628.1000594360822\n",
      "MAE: 14.363245064096565\n",
      "R-squared: 0.9999989216732428\n"
     ]
    }
   ],
   "source": [
    "# Predict on the test data\n",
    "y_pred_dtree = dtree_model.predict(X_train)\n",
    "\n",
    "# Evaluate Performance\n",
    "print(f\"MSE: {mean_squared_error(y_train, y_pred_dtree)}\")\n",
    "print(f\"RMSE: {mean_squared_error(y_train, y_pred_dtree, squared=False)}\")\n",
    "print(f\"MAE: {mean_absolute_error(y_train, y_pred_dtree)}\")\n",
    "print(f\"R-squared: {r2_score(y_train, y_pred_dtree)}\")"
   ]
  },
  {
   "cell_type": "markdown",
   "metadata": {},
   "source": [
    "Shows the scores of each model (Testing and then Training)\n",
    "\n",
    "Linear Regression (Same accuracy on both - not great - underfitting)\n",
    "\n",
    "MSE: 138194061946.39297\n",
    "RMSE: 371744.61925681314\n",
    "MAE: 251502.86452095807\n",
    "R-squared: 0.6501071412030586\n",
    "\n",
    "\n",
    "MSE: 124875285862.72173\n",
    "RMSE: 353376.97415468615\n",
    "MAE: 245491.0076728736\n",
    "R-squared: 0.6586741281786699\n",
    "\n",
    "KNN (Better accuracy on Training but not by insane amount - slight overfitting)\n",
    "\n",
    "MSE: 129542766532.88054\n",
    "RMSE: 359920.5002953854\n",
    "MAE: 228576.79461077845\n",
    "R-squared: 0.6720113130748206\n",
    "\n",
    "MSE: 81861044189.84785\n",
    "RMSE: 286113.69102132786\n",
    "MAE: 184551.08515018245\n",
    "R-squared: 0.7762464199119372\n",
    "\n",
    "DTREE (Almost perfect on Training, not great on Testing - Overfitting)\n",
    "\n",
    "MSE: 136339090239.02507\n",
    "RMSE: 369241.23583238246\n",
    "MAE: 225592.9098053892\n",
    "R-squared: 0.6548037348521415\n",
    "\n",
    "MSE: 394509.68466361\n",
    "RMSE: 628.1000594360822\n",
    "MAE: 14.363245064096565\n",
    "R-squared: 0.9999989216732428\n",
    "\n",
    "XGBoost (Very good score on both but better on Testing - very slight overfitting)\n",
    "\n",
    "MSE: 64681457988.97476\n",
    "RMSE: 254325.4961441632\n",
    "MAE: 160174.89092323167\n",
    "R-squared: 0.8362333379006134\n",
    "\n",
    "MSE: 17860879058.60597\n",
    "RMSE: 133644.59981086393\n",
    "MAE: 91766.92729776831\n",
    "R-squared: 0.951180250967546\n",
    "\n"
   ]
  }
 ],
 "metadata": {
  "kernelspec": {
   "display_name": "Python 3",
   "language": "python",
   "name": "python3"
  },
  "language_info": {
   "codemirror_mode": {
    "name": "ipython",
    "version": 3
   },
   "file_extension": ".py",
   "mimetype": "text/x-python",
   "name": "python",
   "nbconvert_exporter": "python",
   "pygments_lexer": "ipython3",
   "version": "3.10.12"
  }
 },
 "nbformat": 4,
 "nbformat_minor": 2
}
