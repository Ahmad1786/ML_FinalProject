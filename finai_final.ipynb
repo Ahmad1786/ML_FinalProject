{
 "cells": [
  {
   "cell_type": "markdown",
   "metadata": {},
   "source": [
    "Now that we have a general idea of what models are overfitting and underfitting we can tailor to better improve them"
   ]
  },
  {
   "cell_type": "markdown",
   "metadata": {},
   "source": [
    "## Improve Linear Regression\n",
    "\n",
    "Since the model is underfitting and LR does not have many hyperparameters, there is not much we can do.\n",
    "The reality is that there is no point in adding regularization since the model was not overfitting. \n",
    "But lets test our hypothesis by comparing L.R with Regularization models"
   ]
  },
  {
   "cell_type": "code",
   "execution_count": 1,
   "metadata": {},
   "outputs": [],
   "source": [
    "import pandas as pd\n",
    "from sklearn.model_selection import train_test_split\n",
    "from sklearn.metrics import mean_squared_error, r2_score, mean_absolute_error\n",
    "\n",
    "df = pd.read_csv('clean_data.csv')\n",
    "\n",
    "X = df.drop('Price', axis=1)\n",
    "y = df['Price']\n",
    "\n",
    "# Split the data into training and testing sets (80/20 split)\n",
    "X_train, X_test, y_train, y_test = train_test_split(X, y, test_size=.2, random_state=42)"
   ]
  },
  {
   "cell_type": "code",
   "execution_count": 18,
   "metadata": {},
   "outputs": [
    {
     "name": "stdout",
     "output_type": "stream",
     "text": [
      "Model: Linear Regression\n",
      "Mean Absolute Error: 251502.86452095807\n",
      "Root Mean Squared Error: 371744.61925681314\n",
      "R-squared (R2) Score: 0.6501071412030586\n",
      "Best Hyperparameters: N/A\n",
      "--------------------------------------------------\n",
      "Model: Ridge Regression\n",
      "Mean Absolute Error: 251665.09787790227\n",
      "Root Mean Squared Error: 371899.62737690407\n",
      "R-squared (R2) Score: 0.6498152873924832\n",
      "Best Hyperparameters: {'alpha': 1.0}\n",
      "--------------------------------------------------\n"
     ]
    },
    {
     "name": "stderr",
     "output_type": "stream",
     "text": [
      "/home/ahmadm79/.local/lib/python3.10/site-packages/sklearn/linear_model/_coordinate_descent.py:628: ConvergenceWarning: Objective did not converge. You might want to increase the number of iterations, check the scale of the features or consider increasing regularisation. Duality gap: 1.964e+14, tolerance: 3.139e+11\n",
      "  model = cd_fast.enet_coordinate_descent(\n",
      "/home/ahmadm79/.local/lib/python3.10/site-packages/sklearn/linear_model/_coordinate_descent.py:628: ConvergenceWarning: Objective did not converge. You might want to increase the number of iterations, check the scale of the features or consider increasing regularisation. Duality gap: 1.239e+14, tolerance: 3.152e+11\n",
      "  model = cd_fast.enet_coordinate_descent(\n",
      "/home/ahmadm79/.local/lib/python3.10/site-packages/sklearn/linear_model/_coordinate_descent.py:628: ConvergenceWarning: Objective did not converge. You might want to increase the number of iterations, check the scale of the features or consider increasing regularisation. Duality gap: 1.614e+14, tolerance: 3.081e+11\n",
      "  model = cd_fast.enet_coordinate_descent(\n",
      "/home/ahmadm79/.local/lib/python3.10/site-packages/sklearn/linear_model/_coordinate_descent.py:628: ConvergenceWarning: Objective did not converge. You might want to increase the number of iterations, check the scale of the features or consider increasing regularisation. Duality gap: 1.978e+14, tolerance: 3.120e+11\n",
      "  model = cd_fast.enet_coordinate_descent(\n",
      "/home/ahmadm79/.local/lib/python3.10/site-packages/sklearn/linear_model/_coordinate_descent.py:628: ConvergenceWarning: Objective did not converge. You might want to increase the number of iterations, check the scale of the features or consider increasing regularisation. Duality gap: 1.628e+14, tolerance: 3.148e+11\n",
      "  model = cd_fast.enet_coordinate_descent(\n",
      "/home/ahmadm79/.local/lib/python3.10/site-packages/sklearn/linear_model/_coordinate_descent.py:628: ConvergenceWarning: Objective did not converge. You might want to increase the number of iterations, check the scale of the features or consider increasing regularisation. Duality gap: 1.965e+14, tolerance: 3.139e+11\n",
      "  model = cd_fast.enet_coordinate_descent(\n",
      "/home/ahmadm79/.local/lib/python3.10/site-packages/sklearn/linear_model/_coordinate_descent.py:628: ConvergenceWarning: Objective did not converge. You might want to increase the number of iterations, check the scale of the features or consider increasing regularisation. Duality gap: 1.239e+14, tolerance: 3.152e+11\n",
      "  model = cd_fast.enet_coordinate_descent(\n",
      "/home/ahmadm79/.local/lib/python3.10/site-packages/sklearn/linear_model/_coordinate_descent.py:628: ConvergenceWarning: Objective did not converge. You might want to increase the number of iterations, check the scale of the features or consider increasing regularisation. Duality gap: 1.222e+14, tolerance: 3.081e+11\n",
      "  model = cd_fast.enet_coordinate_descent(\n",
      "/home/ahmadm79/.local/lib/python3.10/site-packages/sklearn/linear_model/_coordinate_descent.py:628: ConvergenceWarning: Objective did not converge. You might want to increase the number of iterations, check the scale of the features or consider increasing regularisation. Duality gap: 1.643e+14, tolerance: 3.120e+11\n",
      "  model = cd_fast.enet_coordinate_descent(\n",
      "/home/ahmadm79/.local/lib/python3.10/site-packages/sklearn/linear_model/_coordinate_descent.py:628: ConvergenceWarning: Objective did not converge. You might want to increase the number of iterations, check the scale of the features or consider increasing regularisation. Duality gap: 1.628e+14, tolerance: 3.148e+11\n",
      "  model = cd_fast.enet_coordinate_descent(\n",
      "/home/ahmadm79/.local/lib/python3.10/site-packages/sklearn/linear_model/_coordinate_descent.py:628: ConvergenceWarning: Objective did not converge. You might want to increase the number of iterations, check the scale of the features or consider increasing regularisation. Duality gap: 1.240e+14, tolerance: 3.139e+11\n",
      "  model = cd_fast.enet_coordinate_descent(\n",
      "/home/ahmadm79/.local/lib/python3.10/site-packages/sklearn/linear_model/_coordinate_descent.py:628: ConvergenceWarning: Objective did not converge. You might want to increase the number of iterations, check the scale of the features or consider increasing regularisation. Duality gap: 1.240e+14, tolerance: 3.152e+11\n",
      "  model = cd_fast.enet_coordinate_descent(\n",
      "/home/ahmadm79/.local/lib/python3.10/site-packages/sklearn/linear_model/_coordinate_descent.py:628: ConvergenceWarning: Objective did not converge. You might want to increase the number of iterations, check the scale of the features or consider increasing regularisation. Duality gap: 1.220e+14, tolerance: 3.081e+11\n",
      "  model = cd_fast.enet_coordinate_descent(\n",
      "/home/ahmadm79/.local/lib/python3.10/site-packages/sklearn/linear_model/_coordinate_descent.py:628: ConvergenceWarning: Objective did not converge. You might want to increase the number of iterations, check the scale of the features or consider increasing regularisation. Duality gap: 1.232e+14, tolerance: 3.120e+11\n",
      "  model = cd_fast.enet_coordinate_descent(\n",
      "/home/ahmadm79/.local/lib/python3.10/site-packages/sklearn/linear_model/_coordinate_descent.py:628: ConvergenceWarning: Objective did not converge. You might want to increase the number of iterations, check the scale of the features or consider increasing regularisation. Duality gap: 1.252e+14, tolerance: 3.148e+11\n",
      "  model = cd_fast.enet_coordinate_descent(\n",
      "/home/ahmadm79/.local/lib/python3.10/site-packages/sklearn/linear_model/_coordinate_descent.py:628: ConvergenceWarning: Objective did not converge. You might want to increase the number of iterations, check the scale of the features or consider increasing regularisation. Duality gap: 5.971e+11, tolerance: 3.139e+11\n",
      "  model = cd_fast.enet_coordinate_descent(\n",
      "/home/ahmadm79/.local/lib/python3.10/site-packages/sklearn/linear_model/_coordinate_descent.py:628: ConvergenceWarning: Objective did not converge. You might want to increase the number of iterations, check the scale of the features or consider increasing regularisation. Duality gap: 1.245e+14, tolerance: 3.152e+11\n",
      "  model = cd_fast.enet_coordinate_descent(\n",
      "/home/ahmadm79/.local/lib/python3.10/site-packages/sklearn/linear_model/_coordinate_descent.py:628: ConvergenceWarning: Objective did not converge. You might want to increase the number of iterations, check the scale of the features or consider increasing regularisation. Duality gap: 2.389e+13, tolerance: 3.081e+11\n",
      "  model = cd_fast.enet_coordinate_descent(\n",
      "/home/ahmadm79/.local/lib/python3.10/site-packages/sklearn/linear_model/_coordinate_descent.py:628: ConvergenceWarning: Objective did not converge. You might want to increase the number of iterations, check the scale of the features or consider increasing regularisation. Duality gap: 4.295e+12, tolerance: 3.120e+11\n",
      "  model = cd_fast.enet_coordinate_descent(\n",
      "/home/ahmadm79/.local/lib/python3.10/site-packages/sklearn/linear_model/_coordinate_descent.py:628: ConvergenceWarning: Objective did not converge. You might want to increase the number of iterations, check the scale of the features or consider increasing regularisation. Duality gap: 2.584e+13, tolerance: 3.148e+11\n",
      "  model = cd_fast.enet_coordinate_descent(\n"
     ]
    },
    {
     "name": "stdout",
     "output_type": "stream",
     "text": [
      "Model: Lasso Regression\n",
      "Mean Absolute Error: 251646.111480225\n",
      "Root Mean Squared Error: 371837.3229120086\n",
      "R-squared (R2) Score: 0.6499326106804533\n",
      "Best Hyperparameters: {'alpha': 50.0}\n",
      "--------------------------------------------------\n"
     ]
    },
    {
     "name": "stderr",
     "output_type": "stream",
     "text": [
      "/home/ahmadm79/.local/lib/python3.10/site-packages/sklearn/linear_model/_coordinate_descent.py:628: ConvergenceWarning: Objective did not converge. You might want to increase the number of iterations, check the scale of the features or consider increasing regularisation. Duality gap: 1.964e+14, tolerance: 3.139e+11\n",
      "  model = cd_fast.enet_coordinate_descent(\n",
      "/home/ahmadm79/.local/lib/python3.10/site-packages/sklearn/linear_model/_coordinate_descent.py:628: ConvergenceWarning: Objective did not converge. You might want to increase the number of iterations, check the scale of the features or consider increasing regularisation. Duality gap: 1.239e+14, tolerance: 3.152e+11\n",
      "  model = cd_fast.enet_coordinate_descent(\n",
      "/home/ahmadm79/.local/lib/python3.10/site-packages/sklearn/linear_model/_coordinate_descent.py:628: ConvergenceWarning: Objective did not converge. You might want to increase the number of iterations, check the scale of the features or consider increasing regularisation. Duality gap: 1.614e+14, tolerance: 3.081e+11\n",
      "  model = cd_fast.enet_coordinate_descent(\n",
      "/home/ahmadm79/.local/lib/python3.10/site-packages/sklearn/linear_model/_coordinate_descent.py:628: ConvergenceWarning: Objective did not converge. You might want to increase the number of iterations, check the scale of the features or consider increasing regularisation. Duality gap: 1.978e+14, tolerance: 3.120e+11\n",
      "  model = cd_fast.enet_coordinate_descent(\n",
      "/home/ahmadm79/.local/lib/python3.10/site-packages/sklearn/linear_model/_coordinate_descent.py:628: ConvergenceWarning: Objective did not converge. You might want to increase the number of iterations, check the scale of the features or consider increasing regularisation. Duality gap: 1.628e+14, tolerance: 3.148e+11\n",
      "  model = cd_fast.enet_coordinate_descent(\n",
      "/home/ahmadm79/.local/lib/python3.10/site-packages/sklearn/linear_model/_coordinate_descent.py:628: ConvergenceWarning: Objective did not converge. You might want to increase the number of iterations, check the scale of the features or consider increasing regularisation. Duality gap: 1.965e+14, tolerance: 3.139e+11\n",
      "  model = cd_fast.enet_coordinate_descent(\n",
      "/home/ahmadm79/.local/lib/python3.10/site-packages/sklearn/linear_model/_coordinate_descent.py:628: ConvergenceWarning: Objective did not converge. You might want to increase the number of iterations, check the scale of the features or consider increasing regularisation. Duality gap: 1.239e+14, tolerance: 3.152e+11\n",
      "  model = cd_fast.enet_coordinate_descent(\n",
      "/home/ahmadm79/.local/lib/python3.10/site-packages/sklearn/linear_model/_coordinate_descent.py:628: ConvergenceWarning: Objective did not converge. You might want to increase the number of iterations, check the scale of the features or consider increasing regularisation. Duality gap: 1.222e+14, tolerance: 3.081e+11\n",
      "  model = cd_fast.enet_coordinate_descent(\n",
      "/home/ahmadm79/.local/lib/python3.10/site-packages/sklearn/linear_model/_coordinate_descent.py:628: ConvergenceWarning: Objective did not converge. You might want to increase the number of iterations, check the scale of the features or consider increasing regularisation. Duality gap: 1.643e+14, tolerance: 3.120e+11\n",
      "  model = cd_fast.enet_coordinate_descent(\n",
      "/home/ahmadm79/.local/lib/python3.10/site-packages/sklearn/linear_model/_coordinate_descent.py:628: ConvergenceWarning: Objective did not converge. You might want to increase the number of iterations, check the scale of the features or consider increasing regularisation. Duality gap: 1.628e+14, tolerance: 3.148e+11\n",
      "  model = cd_fast.enet_coordinate_descent(\n",
      "/home/ahmadm79/.local/lib/python3.10/site-packages/sklearn/linear_model/_coordinate_descent.py:628: ConvergenceWarning: Objective did not converge. You might want to increase the number of iterations, check the scale of the features or consider increasing regularisation. Duality gap: 1.240e+14, tolerance: 3.139e+11\n",
      "  model = cd_fast.enet_coordinate_descent(\n",
      "/home/ahmadm79/.local/lib/python3.10/site-packages/sklearn/linear_model/_coordinate_descent.py:628: ConvergenceWarning: Objective did not converge. You might want to increase the number of iterations, check the scale of the features or consider increasing regularisation. Duality gap: 1.240e+14, tolerance: 3.152e+11\n",
      "  model = cd_fast.enet_coordinate_descent(\n",
      "/home/ahmadm79/.local/lib/python3.10/site-packages/sklearn/linear_model/_coordinate_descent.py:628: ConvergenceWarning: Objective did not converge. You might want to increase the number of iterations, check the scale of the features or consider increasing regularisation. Duality gap: 1.220e+14, tolerance: 3.081e+11\n",
      "  model = cd_fast.enet_coordinate_descent(\n",
      "/home/ahmadm79/.local/lib/python3.10/site-packages/sklearn/linear_model/_coordinate_descent.py:628: ConvergenceWarning: Objective did not converge. You might want to increase the number of iterations, check the scale of the features or consider increasing regularisation. Duality gap: 1.232e+14, tolerance: 3.120e+11\n",
      "  model = cd_fast.enet_coordinate_descent(\n",
      "/home/ahmadm79/.local/lib/python3.10/site-packages/sklearn/linear_model/_coordinate_descent.py:628: ConvergenceWarning: Objective did not converge. You might want to increase the number of iterations, check the scale of the features or consider increasing regularisation. Duality gap: 1.252e+14, tolerance: 3.148e+11\n",
      "  model = cd_fast.enet_coordinate_descent(\n",
      "/home/ahmadm79/.local/lib/python3.10/site-packages/sklearn/linear_model/_coordinate_descent.py:628: ConvergenceWarning: Objective did not converge. You might want to increase the number of iterations, check the scale of the features or consider increasing regularisation. Duality gap: 5.971e+11, tolerance: 3.139e+11\n",
      "  model = cd_fast.enet_coordinate_descent(\n",
      "/home/ahmadm79/.local/lib/python3.10/site-packages/sklearn/linear_model/_coordinate_descent.py:628: ConvergenceWarning: Objective did not converge. You might want to increase the number of iterations, check the scale of the features or consider increasing regularisation. Duality gap: 1.245e+14, tolerance: 3.152e+11\n",
      "  model = cd_fast.enet_coordinate_descent(\n",
      "/home/ahmadm79/.local/lib/python3.10/site-packages/sklearn/linear_model/_coordinate_descent.py:628: ConvergenceWarning: Objective did not converge. You might want to increase the number of iterations, check the scale of the features or consider increasing regularisation. Duality gap: 2.389e+13, tolerance: 3.081e+11\n",
      "  model = cd_fast.enet_coordinate_descent(\n",
      "/home/ahmadm79/.local/lib/python3.10/site-packages/sklearn/linear_model/_coordinate_descent.py:628: ConvergenceWarning: Objective did not converge. You might want to increase the number of iterations, check the scale of the features or consider increasing regularisation. Duality gap: 4.295e+12, tolerance: 3.120e+11\n",
      "  model = cd_fast.enet_coordinate_descent(\n",
      "/home/ahmadm79/.local/lib/python3.10/site-packages/sklearn/linear_model/_coordinate_descent.py:628: ConvergenceWarning: Objective did not converge. You might want to increase the number of iterations, check the scale of the features or consider increasing regularisation. Duality gap: 2.584e+13, tolerance: 3.148e+11\n",
      "  model = cd_fast.enet_coordinate_descent(\n",
      "/home/ahmadm79/.local/lib/python3.10/site-packages/sklearn/model_selection/_validation.py:425: FitFailedWarning: \n",
      "45 fits failed out of a total of 270.\n",
      "The score on these train-test partitions for these parameters will be set to nan.\n",
      "If these failures are not expected, you can try to debug them by setting error_score='raise'.\n",
      "\n",
      "Below are more details about the failures:\n",
      "--------------------------------------------------------------------------------\n",
      "45 fits failed with the following error:\n",
      "Traceback (most recent call last):\n",
      "  File \"/home/ahmadm79/.local/lib/python3.10/site-packages/sklearn/model_selection/_validation.py\", line 729, in _fit_and_score\n",
      "    estimator.fit(X_train, y_train, **fit_params)\n",
      "  File \"/home/ahmadm79/.local/lib/python3.10/site-packages/sklearn/base.py\", line 1145, in wrapper\n",
      "    estimator._validate_params()\n",
      "  File \"/home/ahmadm79/.local/lib/python3.10/site-packages/sklearn/base.py\", line 638, in _validate_params\n",
      "    validate_parameter_constraints(\n",
      "  File \"/home/ahmadm79/.local/lib/python3.10/site-packages/sklearn/utils/_param_validation.py\", line 96, in validate_parameter_constraints\n",
      "    raise InvalidParameterError(\n",
      "sklearn.utils._param_validation.InvalidParameterError: The 'l1_ratio' parameter of ElasticNet must be a float in the range [0.0, 1.0]. Got 1.2 instead.\n",
      "\n",
      "  warnings.warn(some_fits_failed_message, FitFailedWarning)\n",
      "/home/ahmadm79/.local/lib/python3.10/site-packages/sklearn/model_selection/_search.py:979: UserWarning: One or more of the test scores are non-finite: [6.20886063e-01 6.34757211e-01 6.42788147e-01 6.51616567e-01\n",
      " 6.54849009e-01            nan 4.86155973e-01 5.35769797e-01\n",
      " 5.69715894e-01 6.17756864e-01 6.54849108e-01            nan\n",
      " 1.91629245e-01 2.72373546e-01 3.44884967e-01 4.75973647e-01\n",
      " 6.54850753e-01            nan 2.69617937e-02 4.70335146e-02\n",
      " 7.45766690e-02 1.78346219e-01 6.54893380e-01            nan\n",
      " 5.34226840e-03 9.79373910e-03 1.63454905e-02 4.69999628e-02\n",
      " 6.54945801e-01            nan 2.52278242e-03 4.77644949e-03\n",
      " 8.12478715e-03 2.43079983e-02 6.54819361e-01            nan\n",
      " 1.10286045e-03 2.23524203e-03 3.92568229e-03 1.22341805e-02\n",
      " 6.54196718e-01            nan 3.90334306e-04 9.56378053e-04\n",
      " 1.80340816e-03 6.00223127e-03 6.52221215e-01            nan\n",
      " 3.34273680e-05 3.14869585e-04 7.36531070e-04 2.83576729e-03\n",
      " 6.48817475e-01            nan]\n",
      "  warnings.warn(\n"
     ]
    },
    {
     "name": "stdout",
     "output_type": "stream",
     "text": [
      "Model: Elastic Net Regression\n",
      "Mean Absolute Error: 251646.111480225\n",
      "Root Mean Squared Error: 371837.3229120086\n",
      "R-squared (R2) Score: 0.6499326106804533\n",
      "Best Hyperparameters: {'alpha': 50, 'l1_ratio': 1}\n",
      "--------------------------------------------------\n"
     ]
    }
   ],
   "source": [
    "from sklearn.linear_model import LinearRegression, Ridge, Lasso, ElasticNet\n",
    "from sklearn.model_selection import GridSearchCV\n",
    "\n",
    "models = {\n",
    "    \"Linear Regression\": LinearRegression(),\n",
    "    \"Ridge Regression\": Ridge(),\n",
    "    \"Lasso Regression\": Lasso(),\n",
    "    \"Elastic Net Regression\": ElasticNet()\n",
    "}\n",
    "\n",
    "# Define hyperparameter grids\n",
    "param_grid = {\n",
    "    \"Ridge Regression\": {\"alpha\": [0.01, 0.1, 1.0, 10.0, 20, 40, 50, 100.0, 200, 400, 800]},\n",
    "    \"Lasso Regression\": {\"alpha\": [0.01, 0.1, 1.0, 10.0, 50.0, 100, 200, 400, 800]},\n",
    "    \"Elastic Net Regression\": {\"alpha\": [0.01, 0.1, 1.0, 10.0, 50, 100, 200, 400, 800], \"l1_ratio\": [0.1, 0.5, 0.7, 0.9, 1, 1.2]}\n",
    "}\n",
    "\n",
    "# Dictionary to store best hyperparameters for each model\n",
    "best_hyperparameters = {}\n",
    "\n",
    "# Loop through the models and perform hyperparameter tuning\n",
    "for model_name, model in models.items():\n",
    "    if model_name in param_grid:\n",
    "        grid_search = GridSearchCV(model, param_grid[model_name], cv=5)\n",
    "        grid_search.fit(X_train, y_train)\n",
    "        best_model = grid_search.best_estimator_\n",
    "        \n",
    "        # Store the best hyperparameters in the dictionary\n",
    "        best_hyperparameters[model_name] = grid_search.best_params_\n",
    "    else:\n",
    "        model.fit(X_train, y_train)\n",
    "        best_model = model\n",
    "\n",
    "    # Make predictions on the test data\n",
    "    y_pred = best_model.predict(X_test)\n",
    "\n",
    "    # Calculate performance metrics\n",
    "    mae = mean_absolute_error(y_test, y_pred)\n",
    "    rmse = mean_squared_error(y_test, y_pred, squared=False)\n",
    "    r2 = r2_score(y_test, y_pred)\n",
    "\n",
    "    # Print the performance metrics and best hyperparameters\n",
    "    print(f\"Model: {model_name}\")\n",
    "    print(\"Mean Absolute Error:\", mae)\n",
    "    print(\"Root Mean Squared Error:\", rmse)\n",
    "    print(\"R-squared (R2) Score:\", r2)\n",
    "    print(\"Best Hyperparameters:\", best_hyperparameters.get(model_name, \"N/A\"))\n",
    "    print(\"--------------------------------------------------\")\n"
   ]
  },
  {
   "cell_type": "markdown",
   "metadata": {},
   "source": [
    "As was already easily assumed. There was no point in performing regularization. "
   ]
  },
  {
   "cell_type": "markdown",
   "metadata": {},
   "source": [
    "### Why is Linear Regression Performing badly?\n",
    "\n",
    "Most likely because the dataset does not satisfy the assumption of linear regression that the dataset is linear. \n",
    "One way to see this is a residuals vs prediction plot"
   ]
  },
  {
   "cell_type": "code",
   "execution_count": 19,
   "metadata": {},
   "outputs": [
    {
     "data": {
      "image/png": "[encoded data removed]",
      "text/plain": [
       "<Figure size 640x480 with 1 Axes>"
      ]
     },
     "metadata": {},
     "output_type": "display_data"
    }
   ],
   "source": [
    "import seaborn as sns\n",
    "import matplotlib.pyplot as plt\n",
    "\n",
    "model = LinearRegression()\n",
    "model.fit(X_train, y_train)\n",
    "predictions = model.predict(df.drop('Price', axis=1))\n",
    "residuals = df['Price'] - predictions\n",
    "\n",
    "sns.scatterplot(x=predictions, y=residuals)\n",
    "plt.title('Residuals vs Predictions')\n",
    "plt.xlabel('Predictions')\n",
    "plt.ylabel('Residuals')\n",
    "plt.show()"
   ]
  },
  {
   "cell_type": "markdown",
   "metadata": {},
   "source": [
    "- Seems to some sort of a pattern: not how you would expect a linear dataset\n",
    "- Inidicating Heteroscedasticity: As predicted value increases the variance generally increases. L.R assuumes homoscedasticity"
   ]
  },
  {
   "cell_type": "markdown",
   "metadata": {},
   "source": [
    "## Improve KNN"
   ]
  },
  {
   "cell_type": "code",
   "execution_count": 3,
   "metadata": {},
   "outputs": [
    {
     "name": "stderr",
     "output_type": "stream",
     "text": [
      "/home/ahmadm79/.local/lib/python3.10/site-packages/sklearn/model_selection/_validation.py:425: FitFailedWarning: \n",
      "480 fits failed out of a total of 1600.\n",
      "The score on these train-test partitions for these parameters will be set to nan.\n",
      "If these failures are not expected, you can try to debug them by setting error_score='raise'.\n",
      "\n",
      "Below are more details about the failures:\n",
      "--------------------------------------------------------------------------------\n",
      "320 fits failed with the following error:\n",
      "Traceback (most recent call last):\n",
      "  File \"/home/ahmadm79/.local/lib/python3.10/site-packages/sklearn/model_selection/_validation.py\", line 729, in _fit_and_score\n",
      "    estimator.fit(X_train, y_train, **fit_params)\n",
      "  File \"/home/ahmadm79/.local/lib/python3.10/site-packages/sklearn/base.py\", line 1145, in wrapper\n",
      "    estimator._validate_params()\n",
      "  File \"/home/ahmadm79/.local/lib/python3.10/site-packages/sklearn/base.py\", line 638, in _validate_params\n",
      "    validate_parameter_constraints(\n",
      "  File \"/home/ahmadm79/.local/lib/python3.10/site-packages/sklearn/utils/_param_validation.py\", line 96, in validate_parameter_constraints\n",
      "    raise InvalidParameterError(\n",
      "sklearn.utils._param_validation.InvalidParameterError: The 'metric' parameter of KNeighborsRegressor must be a str among {'canberra', 'cityblock', 'russellrao', 'seuclidean', 'sokalsneath', 'rogerstanimoto', 'l1', 'p', 'haversine', 'jaccard', 'l2', 'hamming', 'pyfunc', 'minkowski', 'manhattan', 'nan_euclidean', 'mahalanobis', 'correlation', 'sqeuclidean', 'euclidean', 'braycurtis', 'infinity', 'dice', 'sokalmichener', 'precomputed', 'yule', 'cosine', 'chebyshev'} or a callable. Got 'Chebychev' instead.\n",
      "\n",
      "--------------------------------------------------------------------------------\n",
      "80 fits failed with the following error:\n",
      "Traceback (most recent call last):\n",
      "  File \"/home/ahmadm79/.local/lib/python3.10/site-packages/sklearn/model_selection/_validation.py\", line 729, in _fit_and_score\n",
      "    estimator.fit(X_train, y_train, **fit_params)\n",
      "  File \"/home/ahmadm79/.local/lib/python3.10/site-packages/sklearn/base.py\", line 1152, in wrapper\n",
      "    return fit_method(estimator, *args, **kwargs)\n",
      "  File \"/home/ahmadm79/.local/lib/python3.10/site-packages/sklearn/neighbors/_regression.py\", line 218, in fit\n",
      "    return self._fit(X, y)\n",
      "  File \"/home/ahmadm79/.local/lib/python3.10/site-packages/sklearn/neighbors/_base.py\", line 500, in _fit\n",
      "    self._check_algorithm_metric()\n",
      "  File \"/home/ahmadm79/.local/lib/python3.10/site-packages/sklearn/neighbors/_base.py\", line 434, in _check_algorithm_metric\n",
      "    raise ValueError(\n",
      "ValueError: Metric 'cosine' not valid. Use sorted(sklearn.neighbors.VALID_METRICS['ball_tree']) to get valid options. Metric can also be a callable function.\n",
      "\n",
      "--------------------------------------------------------------------------------\n",
      "80 fits failed with the following error:\n",
      "Traceback (most recent call last):\n",
      "  File \"/home/ahmadm79/.local/lib/python3.10/site-packages/sklearn/model_selection/_validation.py\", line 729, in _fit_and_score\n",
      "    estimator.fit(X_train, y_train, **fit_params)\n",
      "  File \"/home/ahmadm79/.local/lib/python3.10/site-packages/sklearn/base.py\", line 1152, in wrapper\n",
      "    return fit_method(estimator, *args, **kwargs)\n",
      "  File \"/home/ahmadm79/.local/lib/python3.10/site-packages/sklearn/neighbors/_regression.py\", line 218, in fit\n",
      "    return self._fit(X, y)\n",
      "  File \"/home/ahmadm79/.local/lib/python3.10/site-packages/sklearn/neighbors/_base.py\", line 500, in _fit\n",
      "    self._check_algorithm_metric()\n",
      "  File \"/home/ahmadm79/.local/lib/python3.10/site-packages/sklearn/neighbors/_base.py\", line 434, in _check_algorithm_metric\n",
      "    raise ValueError(\n",
      "ValueError: Metric 'cosine' not valid. Use sorted(sklearn.neighbors.VALID_METRICS['kd_tree']) to get valid options. Metric can also be a callable function.\n",
      "\n",
      "  warnings.warn(some_fits_failed_message, FitFailedWarning)\n",
      "/home/ahmadm79/.local/lib/python3.10/site-packages/sklearn/model_selection/_search.py:979: UserWarning: One or more of the test scores are non-finite: [-1.80207284e+11 -1.80207284e+11 -1.44051398e+11 -1.42600929e+11\n",
      " -1.32516043e+11 -1.30647992e+11 -1.30121490e+11 -1.27000835e+11\n",
      " -1.29215481e+11 -1.25410778e+11 -1.28963234e+11 -1.24786679e+11\n",
      " -1.30090737e+11 -1.25271637e+11 -1.30372803e+11 -1.25347292e+11\n",
      " -1.82193392e+11 -1.82193392e+11 -1.44718450e+11 -1.45117413e+11\n",
      " -1.33313263e+11 -1.33661495e+11 -1.30271797e+11 -1.28858654e+11\n",
      " -1.28920516e+11 -1.26448498e+11 -1.29125404e+11 -1.25708434e+11\n",
      " -1.30037375e+11 -1.25407012e+11 -1.30466737e+11 -1.25177610e+11\n",
      " -1.69407557e+11 -1.69407557e+11 -1.36042624e+11 -1.34723706e+11\n",
      " -1.26066785e+11 -1.23852966e+11 -1.22911961e+11 -1.19701613e+11\n",
      " -1.22509709e+11 -1.18537390e+11 -1.22714260e+11 -1.18078240e+11\n",
      " -1.22876221e+11 -1.17862231e+11 -1.23397015e+11 -1.18082360e+11\n",
      " -1.80207284e+11 -1.80207284e+11 -1.44051398e+11 -1.42600929e+11\n",
      " -1.32516043e+11 -1.30647992e+11 -1.30121490e+11 -1.27000835e+11\n",
      " -1.29215481e+11 -1.25410778e+11 -1.28963234e+11 -1.24786679e+11\n",
      " -1.30090737e+11 -1.25271637e+11 -1.30372803e+11 -1.25347292e+11\n",
      "             nan             nan             nan             nan\n",
      "             nan             nan             nan             nan\n",
      "             nan             nan             nan             nan\n",
      "             nan             nan             nan             nan\n",
      " -1.80207284e+11 -1.80207284e+11 -1.44051398e+11 -1.42600929e+11\n",
      " -1.32516043e+11 -1.30647992e+11 -1.30121490e+11 -1.27000835e+11\n",
      " -1.29215167e+11 -1.25410512e+11 -1.28963234e+11 -1.24786679e+11\n",
      " -1.30090785e+11 -1.25271651e+11 -1.30373002e+11 -1.25347412e+11\n",
      "             nan             nan             nan             nan\n",
      "             nan             nan             nan             nan\n",
      "             nan             nan             nan             nan\n",
      "             nan             nan             nan             nan\n",
      " -1.69407557e+11 -1.69407557e+11 -1.36042624e+11 -1.34723706e+11\n",
      " -1.26066785e+11 -1.23852966e+11 -1.22911961e+11 -1.19701613e+11\n",
      " -1.22509709e+11 -1.18537390e+11 -1.22714479e+11 -1.18078408e+11\n",
      " -1.22876221e+11 -1.17862231e+11 -1.23397049e+11 -1.18082375e+11\n",
      " -1.80207284e+11 -1.80207284e+11 -1.44051398e+11 -1.42600929e+11\n",
      " -1.32516043e+11 -1.30647992e+11 -1.30121490e+11 -1.27000835e+11\n",
      " -1.29215167e+11 -1.25410512e+11 -1.28963234e+11 -1.24786679e+11\n",
      " -1.30090785e+11 -1.25271651e+11 -1.30373002e+11 -1.25347412e+11\n",
      "             nan             nan             nan             nan\n",
      "             nan             nan             nan             nan\n",
      "             nan             nan             nan             nan\n",
      "             nan             nan             nan             nan\n",
      " -1.80207284e+11 -1.80207284e+11 -1.44051398e+11 -1.42600929e+11\n",
      " -1.32516043e+11 -1.30647992e+11 -1.30121490e+11 -1.27000835e+11\n",
      " -1.29215167e+11 -1.25410512e+11 -1.28963234e+11 -1.24786679e+11\n",
      " -1.30090785e+11 -1.25271651e+11 -1.30372876e+11 -1.25347324e+11\n",
      "             nan             nan             nan             nan\n",
      "             nan             nan             nan             nan\n",
      "             nan             nan             nan             nan\n",
      "             nan             nan             nan             nan\n",
      " -1.69407557e+11 -1.69407557e+11 -1.36042624e+11 -1.34723706e+11\n",
      " -1.26066785e+11 -1.23852966e+11 -1.22911961e+11 -1.19701613e+11\n",
      " -1.22509709e+11 -1.18537390e+11 -1.22714479e+11 -1.18078408e+11\n",
      " -1.22876212e+11 -1.17862215e+11 -1.23397008e+11 -1.18082360e+11\n",
      " -1.80207284e+11 -1.80207284e+11 -1.44051398e+11 -1.42600929e+11\n",
      " -1.32516043e+11 -1.30647992e+11 -1.30121490e+11 -1.27000835e+11\n",
      " -1.29215167e+11 -1.25410512e+11 -1.28963234e+11 -1.24786679e+11\n",
      " -1.30090785e+11 -1.25271651e+11 -1.30372876e+11 -1.25347324e+11\n",
      "             nan             nan             nan             nan\n",
      "             nan             nan             nan             nan\n",
      "             nan             nan             nan             nan\n",
      "             nan             nan             nan             nan\n",
      " -1.80207284e+11 -1.80207284e+11 -1.44051398e+11 -1.42600929e+11\n",
      " -1.32516043e+11 -1.30647992e+11 -1.30121490e+11 -1.27000835e+11\n",
      " -1.29215481e+11 -1.25410778e+11 -1.28963234e+11 -1.24786679e+11\n",
      " -1.30090737e+11 -1.25271637e+11 -1.30372803e+11 -1.25347292e+11\n",
      " -1.82193392e+11 -1.82193392e+11 -1.44718450e+11 -1.45117413e+11\n",
      " -1.33313263e+11 -1.33661495e+11 -1.30271797e+11 -1.28858654e+11\n",
      " -1.28920516e+11 -1.26448498e+11 -1.29125404e+11 -1.25708434e+11\n",
      " -1.30037375e+11 -1.25407012e+11 -1.30466737e+11 -1.25177610e+11\n",
      " -1.69407557e+11 -1.69407557e+11 -1.36042624e+11 -1.34723706e+11\n",
      " -1.26066785e+11 -1.23852966e+11 -1.22911961e+11 -1.19701613e+11\n",
      " -1.22509709e+11 -1.18537390e+11 -1.22714260e+11 -1.18078240e+11\n",
      " -1.22876221e+11 -1.17862231e+11 -1.23397015e+11 -1.18082360e+11\n",
      " -1.80207284e+11 -1.80207284e+11 -1.44051398e+11 -1.42600929e+11\n",
      " -1.32516043e+11 -1.30647992e+11 -1.30121490e+11 -1.27000835e+11\n",
      " -1.29215481e+11 -1.25410778e+11 -1.28963234e+11 -1.24786679e+11\n",
      " -1.30090737e+11 -1.25271637e+11 -1.30372803e+11 -1.25347292e+11\n",
      "             nan             nan             nan             nan\n",
      "             nan             nan             nan             nan\n",
      "             nan             nan             nan             nan\n",
      "             nan             nan             nan             nan]\n",
      "  warnings.warn(\n"
     ]
    },
    {
     "name": "stdout",
     "output_type": "stream",
     "text": [
      "MSE: 118924794982.64774\n",
      "RMSE: 344854.7447587864\n",
      "MAE: 215773.846161547\n",
      "R-squared: 0.6988949024853173\n",
      "Best Parameters: {'algorithm': 'kd_tree', 'metric': 'manhattan', 'n_neighbors': 7, 'weights': 'distance'}\n"
     ]
    }
   ],
   "source": [
    "from sklearn.neighbors import KNeighborsRegressor\n",
    "from sklearn.model_selection import GridSearchCV\n",
    "from sklearn.metrics import mean_squared_error, mean_absolute_error, r2_score\n",
    "\n",
    "# Define the parameter grid for n_neighbors\n",
    "param_grid = {'n_neighbors': [1, 2, 3, 4, 5, 6, 7, 8],\n",
    "            'weights' : ['uniform', 'distance'],\n",
    "            'algorithm': ['auto', 'ball_tree', 'kd_tree', 'brute'],\n",
    "            'metric': ['euclidean', 'cosine', 'manhattan', 'minkowski', 'Chebychev']}\n",
    "\n",
    "# Initialize the KNN model\n",
    "knn_model = KNeighborsRegressor()\n",
    "\n",
    "# Set up Grid Search with 5-fold cross-validation\n",
    "grid_search = GridSearchCV(knn_model, param_grid, cv=5, scoring='neg_mean_squared_error')\n",
    "\n",
    "# Fit the grid search model\n",
    "grid_search.fit(X_train, y_train)\n",
    "\n",
    "# Get the best model\n",
    "best_knn_model = grid_search.best_estimator_\n",
    "\n",
    "# Predict on the test data\n",
    "y_pred_knn = best_knn_model.predict(X_test)\n",
    "\n",
    "# Evaluate Performance\n",
    "print(f\"MSE: {mean_squared_error(y_test, y_pred_knn)}\")\n",
    "print(f\"RMSE: {mean_squared_error(y_test, y_pred_knn, squared=False)}\")\n",
    "print(f\"MAE: {mean_absolute_error(y_test, y_pred_knn)}\")\n",
    "print(f\"R-squared: {r2_score(y_test, y_pred_knn)}\")\n",
    "\n",
    "# Optionally, print the best parameters\n",
    "print(f\"Best Parameters: {grid_search.best_params_}\")\n"
   ]
  },
  {
   "cell_type": "markdown",
   "metadata": {},
   "source": [
    "Best Parameters: {'algorithm': 'kd_tree', 'metric': 'manhattan', 'n_neighbors': 7, 'weights': 'distance'}"
   ]
  },
  {
   "cell_type": "code",
   "execution_count": 85,
   "metadata": {},
   "outputs": [
    {
     "name": "stdout",
     "output_type": "stream",
     "text": [
      "MSE: 394509.68466361\n",
      "RMSE: 628.1000594360822\n",
      "MAE: 14.363245064096565\n",
      "R-squared: 0.9999989216732428\n"
     ]
    }
   ],
   "source": [
    "# Predict on the train data\n",
    "\n",
    "# Evaluate Performance\n",
    "print(f\"MSE: {mean_squared_error(y_train, best_knn_model.predict(X_train))}\")\n",
    "print(f\"RMSE: {mean_squared_error(y_train, best_knn_model.predict(X_train), squared=False)}\")\n",
    "print(f\"MAE: {mean_absolute_error(y_train, best_knn_model.predict(X_train))}\")\n",
    "print(f\"R-squared: {r2_score(y_train, best_knn_model.predict(X_train))}\")"
   ]
  },
  {
   "cell_type": "code",
   "execution_count": 4,
   "metadata": {},
   "outputs": [
    {
     "data": {
      "text/html": [
       "<style>#sk-container-id-1 {color: black;}#sk-container-id-1 pre{padding: 0;}#sk-container-id-1 div.sk-toggleable {background-color: white;}#sk-container-id-1 label.sk-toggleable__label {cursor: pointer;display: block;width: 100%;margin-bottom: 0;padding: 0.3em;box-sizing: border-box;text-align: center;}#sk-container-id-1 label.sk-toggleable__label-arrow:before {content: \"▸\";float: left;margin-right: 0.25em;color: #696969;}#sk-container-id-1 label.sk-toggleable__label-arrow:hover:before {color: black;}#sk-container-id-1 div.sk-estimator:hover label.sk-toggleable__label-arrow:before {color: black;}#sk-container-id-1 div.sk-toggleable__content {max-height: 0;max-width: 0;overflow: hidden;text-align: left;background-color: #f0f8ff;}#sk-container-id-1 div.sk-toggleable__content pre {margin: 0.2em;color: black;border-radius: 0.25em;background-color: #f0f8ff;}#sk-container-id-1 input.sk-toggleable__control:checked~div.sk-toggleable__content {max-height: 200px;max-width: 100%;overflow: auto;}#sk-container-id-1 input.sk-toggleable__control:checked~label.sk-toggleable__label-arrow:before {content: \"▾\";}#sk-container-id-1 div.sk-estimator input.sk-toggleable__control:checked~label.sk-toggleable__label {background-color: #d4ebff;}#sk-container-id-1 div.sk-label input.sk-toggleable__control:checked~label.sk-toggleable__label {background-color: #d4ebff;}#sk-container-id-1 input.sk-hidden--visually {border: 0;clip: rect(1px 1px 1px 1px);clip: rect(1px, 1px, 1px, 1px);height: 1px;margin: -1px;overflow: hidden;padding: 0;position: absolute;width: 1px;}#sk-container-id-1 div.sk-estimator {font-family: monospace;background-color: #f0f8ff;border: 1px dotted black;border-radius: 0.25em;box-sizing: border-box;margin-bottom: 0.5em;}#sk-container-id-1 div.sk-estimator:hover {background-color: #d4ebff;}#sk-container-id-1 div.sk-parallel-item::after {content: \"\";width: 100%;border-bottom: 1px solid gray;flex-grow: 1;}#sk-container-id-1 div.sk-label:hover label.sk-toggleable__label {background-color: #d4ebff;}#sk-container-id-1 div.sk-serial::before {content: \"\";position: absolute;border-left: 1px solid gray;box-sizing: border-box;top: 0;bottom: 0;left: 50%;z-index: 0;}#sk-container-id-1 div.sk-serial {display: flex;flex-direction: column;align-items: center;background-color: white;padding-right: 0.2em;padding-left: 0.2em;position: relative;}#sk-container-id-1 div.sk-item {position: relative;z-index: 1;}#sk-container-id-1 div.sk-parallel {display: flex;align-items: stretch;justify-content: center;background-color: white;position: relative;}#sk-container-id-1 div.sk-item::before, #sk-container-id-1 div.sk-parallel-item::before {content: \"\";position: absolute;border-left: 1px solid gray;box-sizing: border-box;top: 0;bottom: 0;left: 50%;z-index: -1;}#sk-container-id-1 div.sk-parallel-item {display: flex;flex-direction: column;z-index: 1;position: relative;background-color: white;}#sk-container-id-1 div.sk-parallel-item:first-child::after {align-self: flex-end;width: 50%;}#sk-container-id-1 div.sk-parallel-item:last-child::after {align-self: flex-start;width: 50%;}#sk-container-id-1 div.sk-parallel-item:only-child::after {width: 0;}#sk-container-id-1 div.sk-dashed-wrapped {border: 1px dashed gray;margin: 0 0.4em 0.5em 0.4em;box-sizing: border-box;padding-bottom: 0.4em;background-color: white;}#sk-container-id-1 div.sk-label label {font-family: monospace;font-weight: bold;display: inline-block;line-height: 1.2em;}#sk-container-id-1 div.sk-label-container {text-align: center;}#sk-container-id-1 div.sk-container {/* jupyter's `normalize.less` sets `[hidden] { display: none; }` but bootstrap.min.css set `[hidden] { display: none !important; }` so we also need the `!important` here to be able to override the default hidden behavior on the sphinx rendered scikit-learn.org. See: https://github.com/scikit-learn/scikit-learn/issues/21755 */display: inline-block !important;position: relative;}#sk-container-id-1 div.sk-text-repr-fallback {display: none;}</style><div id=\"sk-container-id-1\" class=\"sk-top-container\"><div class=\"sk-text-repr-fallback\"><pre>KNeighborsRegressor(algorithm=&#x27;kd_tree&#x27;, metric=&#x27;manhattan&#x27;, n_neighbors=7,\n",
       "                    weights=&#x27;distance&#x27;)</pre><b>In a Jupyter environment, please rerun this cell to show the HTML representation or trust the notebook. <br />On GitHub, the HTML representation is unable to render, please try loading this page with nbviewer.org.</b></div><div class=\"sk-container\" hidden><div class=\"sk-item\"><div class=\"sk-estimator sk-toggleable\"><input class=\"sk-toggleable__control sk-hidden--visually\" id=\"sk-estimator-id-1\" type=\"checkbox\" checked><label for=\"sk-estimator-id-1\" class=\"sk-toggleable__label sk-toggleable__label-arrow\">KNeighborsRegressor</label><div class=\"sk-toggleable__content\"><pre>KNeighborsRegressor(algorithm=&#x27;kd_tree&#x27;, metric=&#x27;manhattan&#x27;, n_neighbors=7,\n",
       "                    weights=&#x27;distance&#x27;)</pre></div></div></div></div></div>"
      ],
      "text/plain": [
       "KNeighborsRegressor(algorithm='kd_tree', metric='manhattan', n_neighbors=7,\n",
       "                    weights='distance')"
      ]
     },
     "execution_count": 4,
     "metadata": {},
     "output_type": "execute_result"
    }
   ],
   "source": [
    "best_knn_model"
   ]
  },
  {
   "cell_type": "code",
   "execution_count": 7,
   "metadata": {},
   "outputs": [
    {
     "data": {
      "image/png": "[encoded data removed]",
      "text/plain": [
       "<Figure size 1000x800 with 1 Axes>"
      ]
     },
     "metadata": {},
     "output_type": "display_data"
    }
   ],
   "source": [
    "from sklearn.model_selection import learning_curve\n",
    "import matplotlib.pyplot as plt\n",
    "\n",
    "train_sizes, train_scores, test_scores = learning_curve(\n",
    "    estimator=best_knn_model,\n",
    "    X=X,\n",
    "    y=y,\n",
    "    cv=5,\n",
    "    scoring=\"r2\",\n",
    "    train_sizes=[0.1, 0.2, 0.3, 0.4, 0.5, 0.6, 0.7, 0.8, 0.9, 1]\n",
    ")\n",
    "\n",
    "train_mean = train_scores.mean(axis=1)\n",
    "test_mean = test_scores.mean(axis=1)\n",
    "\n",
    "plt.subplots(figsize=(10, 8))\n",
    "plt.plot(train_sizes, train_mean, label=\"Train\")\n",
    "plt.plot(train_sizes, test_mean, label=\"Validation\")\n",
    "\n",
    "plt.title(\"Best KNN Learning Curve\")\n",
    "plt.xlabel(\"Training Set Size\")\n",
    "plt.ylabel(\"R-Squared\")\n",
    "plt.legend(loc=\"best\")\n",
    "plt.ylim(-1.3, 1.3)\n",
    "\n",
    "plt.show()"
   ]
  },
  {
   "cell_type": "markdown",
   "metadata": {},
   "source": [
    "Conclusion: Performance on training data almost became perfect, but only improved very little bit on test data, so still overfitting."
   ]
  },
  {
   "cell_type": "markdown",
   "metadata": {},
   "source": [
    "## Improve DTree"
   ]
  },
  {
   "cell_type": "markdown",
   "metadata": {},
   "source": [
    "Overfitting was huge in DTree. One way to mitigate this is to use pruning. "
   ]
  },
  {
   "cell_type": "markdown",
   "metadata": {},
   "source": [
    "The sklearn library gives us the option to try a range of effective ccp_alphas for overfitting. However, trying all will take too much computation so instead we took\n",
    "a trial and error approach until a good ccp_alpha value was found, using random sampling and then trying values near the range of the better ccp_alpha values. "
   ]
  },
  {
   "cell_type": "code",
   "execution_count": null,
   "metadata": {},
   "outputs": [],
   "source": [
    "from sklearn.tree import DecisionTreeRegressor\n",
    "from sklearn.model_selection import cross_val_score\n",
    "import random\n",
    "import numpy as np\n",
    "\n",
    "dt = DecisionTreeRegressor(random_state=42)\n",
    "\n",
    "ccp_alphas = dt.cost_complexity_pruning_path(X_train, y_train)['ccp_alphas']\n",
    "scores = []\n",
    "ccp_alphas = random.sample(sorted(ccp_alphas), 100)\n",
    "for ccp_alpha in ccp_alphas:\n",
    "    dt = DecisionTreeRegressor(random_state=0, ccp_alpha=ccp_alpha)\n",
    "    score = cross_val_score(dt, X_train, y_train, cv=5)\n",
    "    scores.append(np.mean(score))\n",
    "\n",
    "best_ccp_alpha = ccp_alphas[np.argmax(scores)]\n",
    "dt_pruned = DecisionTreeRegressor(random_state=42, ccp_alpha=best_ccp_alpha)\n",
    "dt_pruned.fit(X_train, y_train)\n",
    "\n",
    "y_pred = dt_pruned.predict(X_test)\n",
    "print(f'Mean Abs Error: {mean_absolute_error(y_test, y_pred)}')\n",
    "print(f'RMSE: {mean_squared_error(y_test, y_pred, squared=False)}')\n",
    "print(f'R2: {r2_score(y_test, y_pred)}')\n",
    "print(best_ccp_alpha)"
   ]
  },
  {
   "cell_type": "markdown",
   "metadata": {},
   "source": [
    "After a few iterations of keeping track a good baseline value of 16384782.13405671 was found. Now try values around that range"
   ]
  },
  {
   "cell_type": "code",
   "execution_count": 24,
   "metadata": {},
   "outputs": [
    {
     "name": "stdout",
     "output_type": "stream",
     "text": [
      "Mean Abs Error: 210593.95869906966\n",
      "RMSE: 356105.70020277385\n",
      "R2: 0.6789271762911879\n",
      "16420979.539003741\n"
     ]
    }
   ],
   "source": [
    "from sklearn.tree import DecisionTreeRegressor\n",
    "from sklearn.model_selection import cross_val_score\n",
    "import numpy as np\n",
    "\n",
    "dt = DecisionTreeRegressor(random_state=42)\n",
    "\n",
    "ccp_alphas = dt.cost_complexity_pruning_path(X_train, y_train)['ccp_alphas']\n",
    "scores = []\n",
    "ccp_alphas = [a for a in ccp_alphas if a <= 16384782.13405671 + 100000 and a >= 16384782.13405671 -100000]\n",
    "for ccp_alpha in ccp_alphas:\n",
    "    dt = DecisionTreeRegressor(random_state=0, ccp_alpha=ccp_alpha)\n",
    "    score = cross_val_score(dt, X_train, y_train, cv=5)\n",
    "    scores.append(np.mean(score))\n",
    "\n",
    "best_ccp_alpha = ccp_alphas[np.argmax(scores)]\n",
    "dt_pruned = DecisionTreeRegressor(random_state=42, ccp_alpha=best_ccp_alpha)\n",
    "dt_pruned.fit(X_train, y_train)\n",
    "\n",
    "y_pred = dt_pruned.predict(X_test)\n",
    "print(f'Mean Abs Error: {mean_absolute_error(y_test, y_pred)}')\n",
    "print(f'RMSE: {mean_squared_error(y_test, y_pred, squared=False)}')\n",
    "print(f'R2: {r2_score(y_test, y_pred)}')\n",
    "print(best_ccp_alpha)"
   ]
  },
  {
   "cell_type": "code",
   "execution_count": 26,
   "metadata": {},
   "outputs": [
    {
     "name": "stdout",
     "output_type": "stream",
     "text": [
      "Mean Abs Error: 210454.20447956794\n",
      "RMSE: 356036.61720689223\n",
      "R2: 0.6790517377405954\n",
      "16511808.167927034\n"
     ]
    }
   ],
   "source": [
    "from sklearn.tree import DecisionTreeRegressor\n",
    "from sklearn.model_selection import cross_val_score\n",
    "import numpy as np\n",
    "\n",
    "dt = DecisionTreeRegressor(random_state=42)\n",
    "\n",
    "ccp_alphas = dt.cost_complexity_pruning_path(X_train, y_train)['ccp_alphas']\n",
    "scores = []\n",
    "ccp_alphas = [a for a in ccp_alphas if a <= 16420979.539003741 + 100000 and a >= 16420979.539003741 -100000]\n",
    "for ccp_alpha in ccp_alphas:\n",
    "    dt = DecisionTreeRegressor(random_state=0, ccp_alpha=ccp_alpha)\n",
    "    score = cross_val_score(dt, X_train, y_train, cv=5)\n",
    "    scores.append(np.mean(score))\n",
    "\n",
    "best_ccp_alpha = ccp_alphas[np.argmax(scores)]\n",
    "dt_pruned = DecisionTreeRegressor(random_state=42, ccp_alpha=best_ccp_alpha)\n",
    "dt_pruned.fit(X_train, y_train)\n",
    "\n",
    "y_pred = dt_pruned.predict(X_test)\n",
    "print(f'Mean Abs Error: {mean_absolute_error(y_test, y_pred)}')\n",
    "print(f'RMSE: {mean_squared_error(y_test, y_pred, squared=False)}')\n",
    "print(f'R2: {r2_score(y_test, y_pred)}')\n",
    "print(best_ccp_alpha)"
   ]
  },
  {
   "cell_type": "code",
   "execution_count": 29,
   "metadata": {},
   "outputs": [
    {
     "name": "stdout",
     "output_type": "stream",
     "text": [
      "Mean Abs Error: 210207.58492144305\n",
      "RMSE: 355611.137847647\n",
      "R2: 0.6798183738598307\n",
      "17371884.844515204\n"
     ]
    }
   ],
   "source": [
    "from sklearn.tree import DecisionTreeRegressor\n",
    "from sklearn.model_selection import cross_val_score\n",
    "import numpy as np\n",
    "\n",
    "dt = DecisionTreeRegressor(random_state=42)\n",
    "\n",
    "ccp_alphas = dt.cost_complexity_pruning_path(X_train, y_train)['ccp_alphas']\n",
    "scores = []\n",
    "ccp_alphas = [a for a in ccp_alphas if a <= 16511808.167927034 + 900000 and a >= 16511808.167927034 - 900000]\n",
    "for ccp_alpha in ccp_alphas:\n",
    "    dt = DecisionTreeRegressor(random_state=0, ccp_alpha=ccp_alpha)\n",
    "    score = cross_val_score(dt, X_train, y_train, cv=5)\n",
    "    scores.append(np.mean(score))\n",
    "\n",
    "best_ccp_alpha = ccp_alphas[np.argmax(scores)]\n",
    "dt_pruned = DecisionTreeRegressor(random_state=42, ccp_alpha=best_ccp_alpha)\n",
    "dt_pruned.fit(X_train, y_train)\n",
    "\n",
    "y_pred = dt_pruned.predict(X_test)\n",
    "print(f'Mean Abs Error: {mean_absolute_error(y_test, y_pred)}')\n",
    "print(f'RMSE: {mean_squared_error(y_test, y_pred, squared=False)}')\n",
    "print(f'R2: {r2_score(y_test, y_pred)}')\n",
    "print(best_ccp_alpha)"
   ]
  },
  {
   "cell_type": "markdown",
   "metadata": {},
   "source": [
    "At this point we can't really find a better ccp_alpha value than 17371884.844515204, with a bit more trial and error a good value of 17281885 was found with r2 of .68"
   ]
  },
  {
   "cell_type": "code",
   "execution_count": 42,
   "metadata": {},
   "outputs": [
    {
     "name": "stdout",
     "output_type": "stream",
     "text": [
      "MSE: 126327864445.22502\n",
      "RMSE: 355426.31366462586\n",
      "MAE: 210030.64180411748\n",
      "R-squared: 0.6801511076966649\n"
     ]
    }
   ],
   "source": [
    "from sklearn.tree import DecisionTreeRegressor\n",
    "\n",
    "dtree_model = DecisionTreeRegressor(random_state=42, ccp_alpha=17371885-90000)\n",
    "\n",
    "# Fit the model on the training data\n",
    "dtree_model.fit(X_train, y_train)\n",
    "\n",
    "# Predict on the test data\n",
    "y_pred_dtree = dtree_model.predict(X_test)\n",
    "\n",
    "# Evaluate Performance\n",
    "print(f\"MSE: {mean_squared_error(y_test, y_pred_dtree)}\")\n",
    "print(f\"RMSE: {mean_squared_error(y_test, y_pred_dtree, squared=False)}\")\n",
    "print(f\"MAE: {mean_absolute_error(y_test, y_pred_dtree)}\")\n",
    "print(f\"R-squared: {r2_score(y_test, y_pred_dtree)}\")"
   ]
  },
  {
   "cell_type": "code",
   "execution_count": 43,
   "metadata": {},
   "outputs": [
    {
     "data": {
      "text/plain": [
       "17281885"
      ]
     },
     "execution_count": 43,
     "metadata": {},
     "output_type": "execute_result"
    }
   ],
   "source": [
    "17371885-90000"
   ]
  },
  {
   "cell_type": "code",
   "execution_count": 62,
   "metadata": {},
   "outputs": [
    {
     "name": "stdout",
     "output_type": "stream",
     "text": [
      "MSE: 126296449721.93723\n",
      "RMSE: 355382.1178983788\n",
      "MAE: 209986.62047178214\n",
      "R-squared: 0.6802306464784669\n"
     ]
    }
   ],
   "source": [
    "from sklearn.tree import DecisionTreeRegressor\n",
    "\n",
    "dtree_model = DecisionTreeRegressor(random_state=42, ccp_alpha=17181895-20000)\n",
    "\n",
    "# Fit the model on the training data\n",
    "dtree_model.fit(X_train, y_train)\n",
    "\n",
    "# Predict on the test data\n",
    "y_pred_dtree = dtree_model.predict(X_test)\n",
    "\n",
    "# Evaluate Performance\n",
    "print(f\"MSE: {mean_squared_error(y_test, y_pred_dtree)}\")\n",
    "print(f\"RMSE: {mean_squared_error(y_test, y_pred_dtree, squared=False)}\")\n",
    "print(f\"MAE: {mean_absolute_error(y_test, y_pred_dtree)}\")\n",
    "print(f\"R-squared: {r2_score(y_test, y_pred_dtree)}\")"
   ]
  },
  {
   "cell_type": "markdown",
   "metadata": {},
   "source": [
    "Final value we decided on = 17161895 (17181895-20000 above)"
   ]
  },
  {
   "cell_type": "markdown",
   "metadata": {},
   "source": [
    "Now similarily to KNN above, do hyperparameter tuning with cross validation to find the best possible dtree model"
   ]
  },
  {
   "cell_type": "code",
   "execution_count": 65,
   "metadata": {},
   "outputs": [
    {
     "name": "stderr",
     "output_type": "stream",
     "text": [
      "/home/ahmadm79/.local/lib/python3.10/site-packages/sklearn/model_selection/_validation.py:425: FitFailedWarning: \n",
      "6300 fits failed out of a total of 25200.\n",
      "The score on these train-test partitions for these parameters will be set to nan.\n",
      "If these failures are not expected, you can try to debug them by setting error_score='raise'.\n",
      "\n",
      "Below are more details about the failures:\n",
      "--------------------------------------------------------------------------------\n",
      "4167 fits failed with the following error:\n",
      "Traceback (most recent call last):\n",
      "  File \"/home/ahmadm79/.local/lib/python3.10/site-packages/sklearn/model_selection/_validation.py\", line 729, in _fit_and_score\n",
      "    estimator.fit(X_train, y_train, **fit_params)\n",
      "  File \"/home/ahmadm79/.local/lib/python3.10/site-packages/sklearn/base.py\", line 1145, in wrapper\n",
      "    estimator._validate_params()\n",
      "  File \"/home/ahmadm79/.local/lib/python3.10/site-packages/sklearn/base.py\", line 638, in _validate_params\n",
      "    validate_parameter_constraints(\n",
      "  File \"/home/ahmadm79/.local/lib/python3.10/site-packages/sklearn/utils/_param_validation.py\", line 96, in validate_parameter_constraints\n",
      "    raise InvalidParameterError(\n",
      "sklearn.utils._param_validation.InvalidParameterError: The 'max_features' parameter of DecisionTreeRegressor must be an int in the range [1, inf), a float in the range (0.0, 1.0], a str among {'log2', 'sqrt'} or None. Got 'auto' instead.\n",
      "\n",
      "--------------------------------------------------------------------------------\n",
      "2133 fits failed with the following error:\n",
      "Traceback (most recent call last):\n",
      "  File \"/home/ahmadm79/.local/lib/python3.10/site-packages/sklearn/model_selection/_validation.py\", line 729, in _fit_and_score\n",
      "    estimator.fit(X_train, y_train, **fit_params)\n",
      "  File \"/home/ahmadm79/.local/lib/python3.10/site-packages/sklearn/base.py\", line 1145, in wrapper\n",
      "    estimator._validate_params()\n",
      "  File \"/home/ahmadm79/.local/lib/python3.10/site-packages/sklearn/base.py\", line 638, in _validate_params\n",
      "    validate_parameter_constraints(\n",
      "  File \"/home/ahmadm79/.local/lib/python3.10/site-packages/sklearn/utils/_param_validation.py\", line 96, in validate_parameter_constraints\n",
      "    raise InvalidParameterError(\n",
      "sklearn.utils._param_validation.InvalidParameterError: The 'max_features' parameter of DecisionTreeRegressor must be an int in the range [1, inf), a float in the range (0.0, 1.0], a str among {'sqrt', 'log2'} or None. Got 'auto' instead.\n",
      "\n",
      "  warnings.warn(some_fits_failed_message, FitFailedWarning)\n",
      "/home/ahmadm79/.local/lib/python3.10/site-packages/sklearn/model_selection/_search.py:979: UserWarning: One or more of the test scores are non-finite: [            nan             nan             nan ... -1.08005387e+11\n",
      " -1.08005387e+11 -1.08005387e+11]\n",
      "  warnings.warn(\n"
     ]
    },
    {
     "name": "stdout",
     "output_type": "stream",
     "text": [
      "Best Parameters: {'ccp_alpha': 17161895, 'max_depth': None, 'max_features': None, 'max_leaf_nodes': None, 'min_samples_leaf': 10, 'min_samples_split': 2}\n",
      "MSE: 113898060748.60594\n",
      "RMSE: 337487.86755764415\n",
      "MAE: 205015.37679685434\n",
      "R-squared: 0.7116220659161425\n"
     ]
    }
   ],
   "source": [
    "from sklearn.tree import DecisionTreeRegressor\n",
    "from sklearn.model_selection import GridSearchCV\n",
    "from sklearn.metrics import mean_squared_error, mean_absolute_error, r2_score\n",
    "\n",
    "# Define the parameter grid to search\n",
    "param_grid = {\n",
    "    'ccp_alpha': [17161895],\n",
    "    'max_depth': [None, 10, 20, 30, 40, 50],  # None means unlimited depth\n",
    "    'min_samples_split': [2, 10, 20, 30, 40, 50],\n",
    "    'min_samples_leaf': [1, 5, 10, 20, 30, 40, 50],\n",
    "    'max_features': ['auto', 'sqrt', 'log2', None],  # None means use all features\n",
    "    'max_leaf_nodes': [None, 10, 50, 100, 500]  # None means unlimited number of leaf nodes\n",
    "}\n",
    "\n",
    "# Initialize the grid search\n",
    "grid_search = GridSearchCV(\n",
    "    estimator=DecisionTreeRegressor(random_state=42),\n",
    "    param_grid=param_grid,\n",
    "    scoring='neg_mean_squared_error', \n",
    "    cv=5,  \n",
    "    n_jobs=-1,  # Use all available cores\n",
    ")\n",
    "\n",
    "grid_search.fit(X_train, y_train)\n",
    "\n",
    "# Get the best model\n",
    "best_dtree_model = grid_search.best_estimator_\n",
    "\n",
    "# Predict on the test data using the best model\n",
    "y_pred_dtree = best_dtree_model.predict(X_test)\n",
    "\n",
    "# Evaluate Performance of the best model\n",
    "print(f\"Best Parameters: {grid_search.best_params_}\")\n",
    "print(f\"MSE: {mean_squared_error(y_test, y_pred_dtree)}\")\n",
    "print(f\"RMSE: {mean_squared_error(y_test, y_pred_dtree, squared=False)}\")\n",
    "print(f\"MAE: {mean_absolute_error(y_test, y_pred_dtree)}\")\n",
    "print(f\"R-squared: {r2_score(y_test, y_pred_dtree)}\")\n"
   ]
  },
  {
   "cell_type": "code",
   "execution_count": 76,
   "metadata": {},
   "outputs": [
    {
     "name": "stdout",
     "output_type": "stream",
     "text": [
      "Best Parameters: {'ccp_alpha': 17161895, 'max_depth': None, 'max_leaf_nodes': None, 'min_samples_leaf': 10, 'min_samples_split': 2, 'min_weight_fraction_leaf': 0}\n",
      "MSE: 113898060748.60594\n",
      "RMSE: 337487.86755764415\n",
      "MAE: 205015.37679685434\n",
      "R-squared: 0.7116220659161425\n"
     ]
    },
    {
     "name": "stderr",
     "output_type": "stream",
     "text": [
      "/home/ahmadm79/.local/lib/python3.10/site-packages/sklearn/model_selection/_validation.py:425: FitFailedWarning: \n",
      "375 fits failed out of a total of 900.\n",
      "The score on these train-test partitions for these parameters will be set to nan.\n",
      "If these failures are not expected, you can try to debug them by setting error_score='raise'.\n",
      "\n",
      "Below are more details about the failures:\n",
      "--------------------------------------------------------------------------------\n",
      "75 fits failed with the following error:\n",
      "Traceback (most recent call last):\n",
      "  File \"/home/ahmadm79/.local/lib/python3.10/site-packages/sklearn/model_selection/_validation.py\", line 729, in _fit_and_score\n",
      "    estimator.fit(X_train, y_train, **fit_params)\n",
      "  File \"/home/ahmadm79/.local/lib/python3.10/site-packages/sklearn/base.py\", line 1145, in wrapper\n",
      "    estimator._validate_params()\n",
      "  File \"/home/ahmadm79/.local/lib/python3.10/site-packages/sklearn/base.py\", line 638, in _validate_params\n",
      "    validate_parameter_constraints(\n",
      "  File \"/home/ahmadm79/.local/lib/python3.10/site-packages/sklearn/utils/_param_validation.py\", line 96, in validate_parameter_constraints\n",
      "    raise InvalidParameterError(\n",
      "sklearn.utils._param_validation.InvalidParameterError: The 'min_weight_fraction_leaf' parameter of DecisionTreeRegressor must be a float in the range [0.0, 0.5]. Got 0.6 instead.\n",
      "\n",
      "--------------------------------------------------------------------------------\n",
      "75 fits failed with the following error:\n",
      "Traceback (most recent call last):\n",
      "  File \"/home/ahmadm79/.local/lib/python3.10/site-packages/sklearn/model_selection/_validation.py\", line 729, in _fit_and_score\n",
      "    estimator.fit(X_train, y_train, **fit_params)\n",
      "  File \"/home/ahmadm79/.local/lib/python3.10/site-packages/sklearn/base.py\", line 1145, in wrapper\n",
      "    estimator._validate_params()\n",
      "  File \"/home/ahmadm79/.local/lib/python3.10/site-packages/sklearn/base.py\", line 638, in _validate_params\n",
      "    validate_parameter_constraints(\n",
      "  File \"/home/ahmadm79/.local/lib/python3.10/site-packages/sklearn/utils/_param_validation.py\", line 96, in validate_parameter_constraints\n",
      "    raise InvalidParameterError(\n",
      "sklearn.utils._param_validation.InvalidParameterError: The 'min_weight_fraction_leaf' parameter of DecisionTreeRegressor must be a float in the range [0.0, 0.5]. Got 0.7 instead.\n",
      "\n",
      "--------------------------------------------------------------------------------\n",
      "75 fits failed with the following error:\n",
      "Traceback (most recent call last):\n",
      "  File \"/home/ahmadm79/.local/lib/python3.10/site-packages/sklearn/model_selection/_validation.py\", line 729, in _fit_and_score\n",
      "    estimator.fit(X_train, y_train, **fit_params)\n",
      "  File \"/home/ahmadm79/.local/lib/python3.10/site-packages/sklearn/base.py\", line 1145, in wrapper\n",
      "    estimator._validate_params()\n",
      "  File \"/home/ahmadm79/.local/lib/python3.10/site-packages/sklearn/base.py\", line 638, in _validate_params\n",
      "    validate_parameter_constraints(\n",
      "  File \"/home/ahmadm79/.local/lib/python3.10/site-packages/sklearn/utils/_param_validation.py\", line 96, in validate_parameter_constraints\n",
      "    raise InvalidParameterError(\n",
      "sklearn.utils._param_validation.InvalidParameterError: The 'min_weight_fraction_leaf' parameter of DecisionTreeRegressor must be a float in the range [0.0, 0.5]. Got 0.8 instead.\n",
      "\n",
      "--------------------------------------------------------------------------------\n",
      "75 fits failed with the following error:\n",
      "Traceback (most recent call last):\n",
      "  File \"/home/ahmadm79/.local/lib/python3.10/site-packages/sklearn/model_selection/_validation.py\", line 729, in _fit_and_score\n",
      "    estimator.fit(X_train, y_train, **fit_params)\n",
      "  File \"/home/ahmadm79/.local/lib/python3.10/site-packages/sklearn/base.py\", line 1145, in wrapper\n",
      "    estimator._validate_params()\n",
      "  File \"/home/ahmadm79/.local/lib/python3.10/site-packages/sklearn/base.py\", line 638, in _validate_params\n",
      "    validate_parameter_constraints(\n",
      "  File \"/home/ahmadm79/.local/lib/python3.10/site-packages/sklearn/utils/_param_validation.py\", line 96, in validate_parameter_constraints\n",
      "    raise InvalidParameterError(\n",
      "sklearn.utils._param_validation.InvalidParameterError: The 'min_weight_fraction_leaf' parameter of DecisionTreeRegressor must be a float in the range [0.0, 0.5]. Got 0.9 instead.\n",
      "\n",
      "--------------------------------------------------------------------------------\n",
      "75 fits failed with the following error:\n",
      "Traceback (most recent call last):\n",
      "  File \"/home/ahmadm79/.local/lib/python3.10/site-packages/sklearn/model_selection/_validation.py\", line 729, in _fit_and_score\n",
      "    estimator.fit(X_train, y_train, **fit_params)\n",
      "  File \"/home/ahmadm79/.local/lib/python3.10/site-packages/sklearn/base.py\", line 1145, in wrapper\n",
      "    estimator._validate_params()\n",
      "  File \"/home/ahmadm79/.local/lib/python3.10/site-packages/sklearn/base.py\", line 638, in _validate_params\n",
      "    validate_parameter_constraints(\n",
      "  File \"/home/ahmadm79/.local/lib/python3.10/site-packages/sklearn/utils/_param_validation.py\", line 96, in validate_parameter_constraints\n",
      "    raise InvalidParameterError(\n",
      "sklearn.utils._param_validation.InvalidParameterError: The 'min_weight_fraction_leaf' parameter of DecisionTreeRegressor must be a float in the range [0.0, 0.5]. Got 1 instead.\n",
      "\n",
      "  warnings.warn(some_fits_failed_message, FitFailedWarning)\n",
      "/home/ahmadm79/.local/lib/python3.10/site-packages/sklearn/model_selection/_search.py:979: UserWarning: One or more of the test scores are non-finite: [-1.02468959e+11 -1.15131210e+11 -2.00871248e+11 -2.47575402e+11\n",
      " -2.88370058e+11 -3.12077478e+11 -3.56611149e+11             nan\n",
      "             nan             nan             nan             nan\n",
      " -1.02468959e+11 -1.15131210e+11 -2.00871248e+11 -2.47575402e+11\n",
      " -2.88370058e+11 -3.12077478e+11 -3.56611149e+11             nan\n",
      "             nan             nan             nan             nan\n",
      " -1.02468959e+11 -1.15131210e+11 -2.00871248e+11 -2.47575402e+11\n",
      " -2.88370058e+11 -3.12077478e+11 -3.56611149e+11             nan\n",
      "             nan             nan             nan             nan\n",
      " -1.02468959e+11 -1.15131210e+11 -2.00871248e+11 -2.47575402e+11\n",
      " -2.88370058e+11 -3.12077478e+11 -3.56611149e+11             nan\n",
      "             nan             nan             nan             nan\n",
      " -1.02468959e+11 -1.15131210e+11 -2.00871248e+11 -2.47575402e+11\n",
      " -2.88370058e+11 -3.12077478e+11 -3.56611149e+11             nan\n",
      "             nan             nan             nan             nan\n",
      " -1.05015215e+11 -1.15434989e+11 -2.00871248e+11 -2.47575402e+11\n",
      " -2.88370058e+11 -3.12077478e+11 -3.56611149e+11             nan\n",
      "             nan             nan             nan             nan\n",
      " -1.05019837e+11 -1.15434989e+11 -2.00871248e+11 -2.47575402e+11\n",
      " -2.88370058e+11 -3.12077478e+11 -3.56611149e+11             nan\n",
      "             nan             nan             nan             nan\n",
      " -1.05019837e+11 -1.15434989e+11 -2.00871248e+11 -2.47575402e+11\n",
      " -2.88370058e+11 -3.12077478e+11 -3.56611149e+11             nan\n",
      "             nan             nan             nan             nan\n",
      " -1.05019837e+11 -1.15434989e+11 -2.00871248e+11 -2.47575402e+11\n",
      " -2.88370058e+11 -3.12077478e+11 -3.56611149e+11             nan\n",
      "             nan             nan             nan             nan\n",
      " -1.05019837e+11 -1.15434989e+11 -2.00871248e+11 -2.47575402e+11\n",
      " -2.88370058e+11 -3.12077478e+11 -3.56611149e+11             nan\n",
      "             nan             nan             nan             nan\n",
      " -1.02468959e+11 -1.15131210e+11 -2.00871248e+11 -2.47575402e+11\n",
      " -2.88370058e+11 -3.12077478e+11 -3.56611149e+11             nan\n",
      "             nan             nan             nan             nan\n",
      " -1.02468959e+11 -1.15131210e+11 -2.00871248e+11 -2.47575402e+11\n",
      " -2.88370058e+11 -3.12077478e+11 -3.56611149e+11             nan\n",
      "             nan             nan             nan             nan\n",
      " -1.02468959e+11 -1.15131210e+11 -2.00871248e+11 -2.47575402e+11\n",
      " -2.88370058e+11 -3.12077478e+11 -3.56611149e+11             nan\n",
      "             nan             nan             nan             nan\n",
      " -1.02468959e+11 -1.15131210e+11 -2.00871248e+11 -2.47575402e+11\n",
      " -2.88370058e+11 -3.12077478e+11 -3.56611149e+11             nan\n",
      "             nan             nan             nan             nan\n",
      " -1.02468959e+11 -1.15131210e+11 -2.00871248e+11 -2.47575402e+11\n",
      " -2.88370058e+11 -3.12077478e+11 -3.56611149e+11             nan\n",
      "             nan             nan             nan             nan]\n",
      "  warnings.warn(\n"
     ]
    }
   ],
   "source": [
    "from sklearn.tree import DecisionTreeRegressor\n",
    "from sklearn.model_selection import GridSearchCV\n",
    "from sklearn.metrics import mean_squared_error, mean_absolute_error, r2_score\n",
    "\n",
    "# Define the parameter grid to search\n",
    "param_grid = {\n",
    "    'ccp_alpha': [17161895],\n",
    "    'max_depth': [None, 10, 20],  # None means unlimited depth\n",
    "    'min_samples_split': [2],\n",
    "    'min_samples_leaf': [10],\n",
    "    'max_leaf_nodes': [None, 500, 1000, 2000, 12000],  # None means unlimited number of leaf nodes,\n",
    "    'min_weight_fraction_leaf': [0, 0.01, .1, .2,.3,.4,.5, .6, .7, .8,.9, 1]\n",
    "}\n",
    "\n",
    "# Initialize the grid search\n",
    "grid_search = GridSearchCV(\n",
    "    estimator=DecisionTreeRegressor(random_state=42),\n",
    "    param_grid=param_grid,\n",
    "    scoring='neg_mean_squared_error', \n",
    "    cv=5,  \n",
    "    n_jobs=-1,  # Use all available cores\n",
    ")\n",
    "\n",
    "grid_search.fit(X_train, y_train)\n",
    "\n",
    "# Get the best model\n",
    "best_dtree_model = grid_search.best_estimator_\n",
    "\n",
    "# Predict on the test data using the best model\n",
    "y_pred_dtree = best_dtree_model.predict(X_test)\n",
    "\n",
    "# Evaluate Performance of the best model\n",
    "print(f\"Best Parameters: {grid_search.best_params_}\")\n",
    "print(f\"MSE: {mean_squared_error(y_test, y_pred_dtree)}\")\n",
    "print(f\"RMSE: {mean_squared_error(y_test, y_pred_dtree, squared=False)}\")\n",
    "print(f\"MAE: {mean_absolute_error(y_test, y_pred_dtree)}\")\n",
    "print(f\"R-squared: {r2_score(y_test, y_pred_dtree)}\")\n"
   ]
  },
  {
   "cell_type": "markdown",
   "metadata": {},
   "source": [
    "Conclude with: Best Parameters: {'ccp_alpha': 17161895, 'max_depth': None, 'max_leaf_nodes': None, 'min_samples_leaf': 10, 'min_samples_split': 2, 'min_weight_fraction_leaf': 0}"
   ]
  },
  {
   "cell_type": "code",
   "execution_count": 80,
   "metadata": {},
   "outputs": [
    {
     "data": {
      "image/png": "[encoded data removed]",
      "text/plain": [
       "<Figure size 1000x800 with 1 Axes>"
      ]
     },
     "metadata": {},
     "output_type": "display_data"
    }
   ],
   "source": [
    "from sklearn.model_selection import learning_curve\n",
    "import matplotlib.pyplot as plt\n",
    "\n",
    "train_sizes, train_scores, test_scores = learning_curve(\n",
    "    estimator=DecisionTreeRegressor(random_state=42, ccp_alpha= 17161895, max_depth= None, max_leaf_nodes= None, min_samples_leaf= 10, min_samples_split= 2, min_weight_fraction_leaf= 0),\n",
    "    X=X,\n",
    "    y=y,\n",
    "    cv=5,\n",
    "    scoring=\"r2\",\n",
    "    train_sizes=[0.1, 0.2, 0.3, 0.4, 0.5, 0.6, 0.7, 0.8, 0.9, 1]\n",
    ")\n",
    "\n",
    "train_mean = train_scores.mean(axis=1)\n",
    "test_mean = test_scores.mean(axis=1)\n",
    "\n",
    "plt.subplots(figsize=(10, 8))\n",
    "plt.plot(train_sizes, train_mean, label=\"Train\")\n",
    "plt.plot(train_sizes, test_mean, label=\"Validation\")\n",
    "\n",
    "plt.title(\"Best DTree Learning Curve\")\n",
    "plt.xlabel(\"Training Set Size\")\n",
    "plt.ylabel(\"R-Squared\")\n",
    "plt.legend(loc=\"best\")\n",
    "plt.ylim(-1.3, 1.3)\n",
    "\n",
    "plt.show()"
   ]
  },
  {
   "cell_type": "markdown",
   "metadata": {},
   "source": [
    "Conclusion: Were able to reduce overfitting somewhat. Model performance on training set decreased but increased on testing set. "
   ]
  },
  {
   "cell_type": "markdown",
   "metadata": {},
   "source": [
    "## Improving XGBoost"
   ]
  },
  {
   "cell_type": "markdown",
   "metadata": {},
   "source": [
    "Grid Search with cross validation. Same as before."
   ]
  },
  {
   "cell_type": "markdown",
   "metadata": {},
   "source": [
    "The grid below was taking too long to experiment, so smalelr subsets were tried and tuned iteratively until the best values were found"
   ]
  },
  {
   "cell_type": "code",
   "execution_count": null,
   "metadata": {},
   "outputs": [],
   "source": [
    "# Define the parameter grid to search\n",
    "param_grid = {\n",
    "    'learning_rate': [0.01, 0.1, 0.2, 0.3],\n",
    "    'n_estimators': [100, 200, 500, 1000],\n",
    "    'max_depth': [3, 4, 5, 6, 7, 8, 9, 10],\n",
    "    'min_child_weight': [1, 3, 5, 7],\n",
    "    'subsample': [0.6, 0.7, 0.8, 0.9, 1.0],\n",
    "    'colsample_bytree': [0.3, 0.4, 0.5, 0.6, 0.7],\n",
    "    'gamma': [0, 0.1, 0.2, 0.3, 0.4],\n",
    "    'lambda': [1, 10, 100, 1000],\n",
    "    'alpha': [0, 0.1, 1, 10],\n",
    "    'scale_pos_weight': [1, 3, 5, 7]\n",
    "}"
   ]
  },
  {
   "cell_type": "code",
   "execution_count": 89,
   "metadata": {},
   "outputs": [
    {
     "name": "stdout",
     "output_type": "stream",
     "text": [
      "Best Parameters: {'alpha': 0, 'colsample_bytree': 0.4, 'gamma': 0, 'lambda': 10, 'learning_rate': 0.1, 'max_depth': 5, 'min_child_weight': 3, 'n_estimators': 200, 'scale_pos_weight': 1, 'subsample': 0.7}\n",
      "MSE: 67025629889.30137\n",
      "RMSE: 258893.08582753106\n",
      "MAE: 161009.01103457148\n",
      "R-squared: 0.8302981407136684\n"
     ]
    }
   ],
   "source": [
    "from xgboost import XGBRegressor\n",
    "from sklearn.model_selection import GridSearchCV\n",
    "\n",
    "\n",
    "# Define the parameter grid to search\n",
    "param_grid = {\n",
    "    'learning_rate': [0.01, 0.1],\n",
    "    'n_estimators': [100, 200],\n",
    "    'max_depth': [3, 4, 5],\n",
    "    'min_child_weight': [1, 3],\n",
    "    'subsample': [0.6, 0.7],\n",
    "    'colsample_bytree': [0.3, 0.4],\n",
    "    'gamma': [0, 0.1, 0.2],\n",
    "    'lambda': [1, 10],\n",
    "    'alpha': [0, 0.1],\n",
    "    'scale_pos_weight': [1, 3]\n",
    "}\n",
    "\n",
    "# Initialize the grid search\n",
    "grid_search = GridSearchCV(\n",
    "    estimator=XGBRegressor(random_state=42),\n",
    "    param_grid=param_grid,\n",
    "    scoring='neg_mean_squared_error', \n",
    "    cv=5,  \n",
    "    n_jobs=-1,  # Use all available cores\n",
    ")\n",
    "\n",
    "grid_search.fit(X_train, y_train)\n",
    "\n",
    "# Get the best model\n",
    "best_xgb_model = grid_search.best_estimator_\n",
    "\n",
    "# Predict on the test data using the best model\n",
    "y_pred_xgb = best_xgb_model.predict(X_test)\n",
    "\n",
    "# Evaluate Performance of the best model\n",
    "print(f\"Best Parameters: {grid_search.best_params_}\")\n",
    "print(f\"MSE: {mean_squared_error(y_test, y_pred_xgb)}\")\n",
    "print(f\"RMSE: {mean_squared_error(y_test, y_pred_xgb, squared=False)}\")\n",
    "print(f\"MAE: {mean_absolute_error(y_test, y_pred_xgb)}\")\n",
    "print(f\"R-squared: {r2_score(y_test, y_pred_xgb)}\")\n"
   ]
  },
  {
   "cell_type": "code",
   "execution_count": 90,
   "metadata": {},
   "outputs": [
    {
     "name": "stdout",
     "output_type": "stream",
     "text": [
      "Best Parameters: {'alpha': 0, 'colsample_bytree': 0.4, 'gamma': 0, 'lambda': 100, 'learning_rate': 0.1, 'max_depth': 7, 'min_child_weight': 3, 'n_estimators': 500, 'scale_pos_weight': 0, 'subsample': 0.9}\n",
      "MSE: 62300160947.15066\n",
      "RMSE: 249600.00189733706\n",
      "MAE: 153753.82544091504\n",
      "R-squared: 0.8422625320488522\n"
     ]
    }
   ],
   "source": [
    "from xgboost import XGBRegressor\n",
    "from sklearn.model_selection import GridSearchCV\n",
    "\n",
    "\n",
    "# Define the parameter grid to search\n",
    "param_grid = {\n",
    "    'learning_rate': [0.1],\n",
    "    'n_estimators': [200, 500],\n",
    "    'max_depth': [5, 6, 7],\n",
    "    'min_child_weight': [1, 2, 3],\n",
    "    'subsample': [0.7, 0.8, 0.9],\n",
    "    'colsample_bytree': [0.4],\n",
    "    'gamma': [0],\n",
    "    'lambda': [10, 100],\n",
    "    'alpha': [0],\n",
    "    'scale_pos_weight': [0, 1, 2]\n",
    "}\n",
    "\n",
    "# Initialize the grid search\n",
    "grid_search = GridSearchCV(\n",
    "    estimator=XGBRegressor(random_state=42),\n",
    "    param_grid=param_grid,\n",
    "    scoring='neg_mean_squared_error', \n",
    "    cv=5,  \n",
    "    n_jobs=-1,  # Use all available cores\n",
    ")\n",
    "\n",
    "grid_search.fit(X_train, y_train)\n",
    "\n",
    "# Get the best model\n",
    "best_xgb_model = grid_search.best_estimator_\n",
    "\n",
    "# Predict on the test data using the best model\n",
    "y_pred_xgb = best_xgb_model.predict(X_test)\n",
    "\n",
    "# Evaluate Performance of the best model\n",
    "print(f\"Best Parameters: {grid_search.best_params_}\")\n",
    "print(f\"MSE: {mean_squared_error(y_test, y_pred_xgb)}\")\n",
    "print(f\"RMSE: {mean_squared_error(y_test, y_pred_xgb, squared=False)}\")\n",
    "print(f\"MAE: {mean_absolute_error(y_test, y_pred_xgb)}\")\n",
    "print(f\"R-squared: {r2_score(y_test, y_pred_xgb)}\")\n"
   ]
  },
  {
   "cell_type": "code",
   "execution_count": 91,
   "metadata": {},
   "outputs": [
    {
     "name": "stdout",
     "output_type": "stream",
     "text": [
      "Best Parameters: {'alpha': 0, 'colsample_bytree': 0.4, 'gamma': 0, 'lambda': 100, 'learning_rate': 0.1, 'max_depth': 7, 'min_child_weight': 4, 'n_estimators': 700, 'scale_pos_weight': 0, 'subsample': 1.0}\n",
      "MSE: 61589561343.293976\n",
      "RMSE: 248172.44275562503\n",
      "MAE: 152702.91134332897\n",
      "R-squared: 0.844061695655099\n"
     ]
    }
   ],
   "source": [
    "from xgboost import XGBRegressor\n",
    "from sklearn.model_selection import GridSearchCV\n",
    "\n",
    "\n",
    "# Define the parameter grid to search\n",
    "param_grid = {\n",
    "    'learning_rate': [0.1],\n",
    "    'n_estimators': [500, 700, 1000],\n",
    "    'max_depth': [7, 8, 9, 10],\n",
    "    'min_child_weight': [3, 4, 5],\n",
    "    'subsample': [0.9, 0.95, 1.0],\n",
    "    'colsample_bytree': [0.4, 0.5],\n",
    "    'gamma': [0],\n",
    "    'lambda': [100, 200, 1000],\n",
    "    'alpha': [0],\n",
    "    'scale_pos_weight': [0]\n",
    "}\n",
    "\n",
    "# Initialize the grid search\n",
    "grid_search = GridSearchCV(\n",
    "    estimator=XGBRegressor(random_state=42),\n",
    "    param_grid=param_grid,\n",
    "    scoring='neg_mean_squared_error', \n",
    "    cv=5,  \n",
    "    n_jobs=-1,  # Use all available cores\n",
    ")\n",
    "\n",
    "grid_search.fit(X_train, y_train)\n",
    "\n",
    "# Get the best model\n",
    "best_xgb_model = grid_search.best_estimator_\n",
    "\n",
    "# Predict on the test data using the best model\n",
    "y_pred_xgb = best_xgb_model.predict(X_test)\n",
    "\n",
    "# Evaluate Performance of the best model\n",
    "print(f\"Best Parameters: {grid_search.best_params_}\")\n",
    "print(f\"MSE: {mean_squared_error(y_test, y_pred_xgb)}\")\n",
    "print(f\"RMSE: {mean_squared_error(y_test, y_pred_xgb, squared=False)}\")\n",
    "print(f\"MAE: {mean_absolute_error(y_test, y_pred_xgb)}\")\n",
    "print(f\"R-squared: {r2_score(y_test, y_pred_xgb)}\")"
   ]
  },
  {
   "cell_type": "code",
   "execution_count": 92,
   "metadata": {},
   "outputs": [
    {
     "name": "stdout",
     "output_type": "stream",
     "text": [
      "Best Parameters: {'alpha': 0, 'colsample_bytree': 0.4, 'gamma': 0, 'lambda': 100, 'learning_rate': 0.1, 'max_depth': 7, 'min_child_weight': 4, 'n_estimators': 800, 'scale_pos_weight': 0, 'subsample': 1.0}\n",
      "MSE: 61232035754.23652\n",
      "RMSE: 247451.07749661652\n",
      "MAE: 152589.11940377057\n",
      "R-squared: 0.8449669129175955\n"
     ]
    }
   ],
   "source": [
    "from xgboost import XGBRegressor\n",
    "from sklearn.model_selection import GridSearchCV\n",
    "\n",
    "\n",
    "# Define the parameter grid to search\n",
    "param_grid = {\n",
    "    'learning_rate': [0.1],\n",
    "    'n_estimators': [600, 700, 800],\n",
    "    'max_depth': [7],\n",
    "    'min_child_weight': [4],\n",
    "    'subsample': [1.0],\n",
    "    'colsample_bytree': [0.4],\n",
    "    'gamma': [0],\n",
    "    'lambda': [100],\n",
    "    'alpha': [0],\n",
    "    'scale_pos_weight': [0]\n",
    "}\n",
    "\n",
    "# Initialize the grid search\n",
    "grid_search = GridSearchCV(\n",
    "    estimator=XGBRegressor(random_state=42),\n",
    "    param_grid=param_grid,\n",
    "    scoring='neg_mean_squared_error', \n",
    "    cv=5,  \n",
    "    n_jobs=-1,  # Use all available cores\n",
    ")\n",
    "\n",
    "grid_search.fit(X_train, y_train)\n",
    "\n",
    "# Get the best model\n",
    "best_xgb_model = grid_search.best_estimator_\n",
    "\n",
    "# Predict on the test data using the best model\n",
    "y_pred_xgb = best_xgb_model.predict(X_test)\n",
    "\n",
    "# Evaluate Performance of the best model\n",
    "print(f\"Best Parameters: {grid_search.best_params_}\")\n",
    "print(f\"MSE: {mean_squared_error(y_test, y_pred_xgb)}\")\n",
    "print(f\"RMSE: {mean_squared_error(y_test, y_pred_xgb, squared=False)}\")\n",
    "print(f\"MAE: {mean_absolute_error(y_test, y_pred_xgb)}\")\n",
    "print(f\"R-squared: {r2_score(y_test, y_pred_xgb)}\")"
   ]
  },
  {
   "cell_type": "code",
   "execution_count": 93,
   "metadata": {},
   "outputs": [
    {
     "name": "stdout",
     "output_type": "stream",
     "text": [
      "Best Parameters: {'alpha': 0, 'colsample_bytree': 0.4, 'gamma': 0, 'lambda': 100, 'learning_rate': 0.1, 'max_depth': 7, 'min_child_weight': 4, 'n_estimators': 800, 'scale_pos_weight': 0, 'subsample': 1.0}\n",
      "MSE: 61232035754.23652\n",
      "RMSE: 247451.07749661652\n",
      "MAE: 152589.11940377057\n",
      "R-squared: 0.8449669129175955\n"
     ]
    }
   ],
   "source": [
    "from xgboost import XGBRegressor\n",
    "from sklearn.model_selection import GridSearchCV\n",
    "\n",
    "\n",
    "# Define the parameter grid to search\n",
    "param_grid = {\n",
    "    'learning_rate': [0.1],\n",
    "    'n_estimators': [800, 900, 1000, 1100],\n",
    "    'max_depth': [7],\n",
    "    'min_child_weight': [4],\n",
    "    'subsample': [1.0],\n",
    "    'colsample_bytree': [0.4],\n",
    "    'gamma': [0],\n",
    "    'lambda': [100],\n",
    "    'alpha': [0],\n",
    "    'scale_pos_weight': [0]\n",
    "}\n",
    "\n",
    "# Initialize the grid search\n",
    "grid_search = GridSearchCV(\n",
    "    estimator=XGBRegressor(random_state=42),\n",
    "    param_grid=param_grid,\n",
    "    scoring='neg_mean_squared_error', \n",
    "    cv=5,  \n",
    "    n_jobs=-1,  # Use all available cores\n",
    ")\n",
    "\n",
    "grid_search.fit(X_train, y_train)\n",
    "\n",
    "# Get the best model\n",
    "best_xgb_model = grid_search.best_estimator_\n",
    "\n",
    "# Predict on the test data using the best model\n",
    "y_pred_xgb = best_xgb_model.predict(X_test)\n",
    "\n",
    "# Evaluate Performance of the best model\n",
    "print(f\"Best Parameters: {grid_search.best_params_}\")\n",
    "print(f\"MSE: {mean_squared_error(y_test, y_pred_xgb)}\")\n",
    "print(f\"RMSE: {mean_squared_error(y_test, y_pred_xgb, squared=False)}\")\n",
    "print(f\"MAE: {mean_absolute_error(y_test, y_pred_xgb)}\")\n",
    "print(f\"R-squared: {r2_score(y_test, y_pred_xgb)}\")"
   ]
  },
  {
   "cell_type": "code",
   "execution_count": 95,
   "metadata": {},
   "outputs": [
    {
     "name": "stdout",
     "output_type": "stream",
     "text": [
      "Best Parameters: {'alpha': 0, 'colsample_bytree': 0.4, 'gamma': 0, 'lambda': 100, 'learning_rate': 0.1, 'max_depth': 7, 'min_child_weight': 4, 'n_estimators': 800, 'scale_pos_weight': 0, 'subsample': 1.0}\n",
      "MSE: 61232035754.23652\n",
      "RMSE: 247451.07749661652\n",
      "MAE: 152589.11940377057\n",
      "R-squared: 0.8449669129175955\n"
     ]
    }
   ],
   "source": [
    "from xgboost import XGBRegressor\n",
    "from sklearn.model_selection import GridSearchCV\n",
    "\n",
    "\n",
    "# Define the parameter grid to search\n",
    "param_grid = {\n",
    "    'learning_rate': [0.1],\n",
    "    'n_estimators': [800],\n",
    "    'max_depth': [7],\n",
    "    'min_child_weight': [4],\n",
    "    'subsample': [1.0],\n",
    "    'colsample_bytree': [0.4],\n",
    "    'gamma': [0],\n",
    "    'lambda': [100],\n",
    "    'alpha': [0],\n",
    "    'scale_pos_weight': [0]\n",
    "}\n",
    "\n",
    "# Initialize the grid search\n",
    "grid_search = GridSearchCV(\n",
    "    estimator=XGBRegressor(random_state=42),\n",
    "    param_grid=param_grid,\n",
    "    scoring='neg_mean_squared_error', \n",
    "    cv=5,  \n",
    "    n_jobs=-1,  # Use all available cores\n",
    ")\n",
    "\n",
    "grid_search.fit(X_train, y_train)\n",
    "\n",
    "# Get the best model\n",
    "best_xgb_model = grid_search.best_estimator_\n",
    "\n",
    "# Predict on the test data using the best model\n",
    "y_pred_xgb = best_xgb_model.predict(X_test)\n",
    "\n",
    "# Evaluate Performance of the best model\n",
    "print(f\"Best Parameters: {grid_search.best_params_}\")\n",
    "print(f\"MSE: {mean_squared_error(y_test, y_pred_xgb)}\")\n",
    "print(f\"RMSE: {mean_squared_error(y_test, y_pred_xgb, squared=False)}\")\n",
    "print(f\"MAE: {mean_absolute_error(y_test, y_pred_xgb)}\")\n",
    "print(f\"R-squared: {r2_score(y_test, y_pred_xgb)}\")"
   ]
  },
  {
   "cell_type": "markdown",
   "metadata": {},
   "source": [
    "Improved by Increasing colsample_bytree.\n",
    "Try changing values little by little, improving as much as possible"
   ]
  },
  {
   "cell_type": "code",
   "execution_count": 103,
   "metadata": {},
   "outputs": [
    {
     "name": "stdout",
     "output_type": "stream",
     "text": [
      "Best Parameters: {'alpha': 0, 'colsample_bytree': 0.95, 'gamma': 0, 'lambda': 100, 'learning_rate': 0.1, 'max_depth': 7, 'min_child_weight': 4, 'n_estimators': 800, 'scale_pos_weight': 0, 'subsample': 1.0}\n",
      "MSE: 60454878076.62213\n",
      "RMSE: 245875.73706370895\n",
      "MAE: 150696.5026957803\n",
      "R-squared: 0.8469345945800824\n"
     ]
    }
   ],
   "source": [
    "from xgboost import XGBRegressor\n",
    "from sklearn.model_selection import GridSearchCV\n",
    "\n",
    "\n",
    "# Define the parameter grid to search\n",
    "param_grid = {\n",
    "    'learning_rate': [0.1],\n",
    "    'n_estimators': [800],\n",
    "    'max_depth': [7],\n",
    "    'min_child_weight': [4],\n",
    "    'subsample': [1.0],\n",
    "    'colsample_bytree': [0.95],\n",
    "    'gamma': [0],\n",
    "    'lambda': [100],\n",
    "    'alpha': [0],\n",
    "    'scale_pos_weight': [0]\n",
    "}\n",
    "\n",
    "# Initialize the grid search\n",
    "grid_search = GridSearchCV(\n",
    "    estimator=XGBRegressor(random_state=42),\n",
    "    param_grid=param_grid,\n",
    "    scoring='neg_mean_squared_error', \n",
    "    cv=5,  \n",
    "    n_jobs=-1,  # Use all available cores\n",
    ")\n",
    "\n",
    "grid_search.fit(X_train, y_train)\n",
    "\n",
    "# Get the best model\n",
    "best_xgb_model = grid_search.best_estimator_\n",
    "\n",
    "# Predict on the test data using the best model\n",
    "y_pred_xgb = best_xgb_model.predict(X_test)\n",
    "\n",
    "# Evaluate Performance of the best model\n",
    "print(f\"Best Parameters: {grid_search.best_params_}\")\n",
    "print(f\"MSE: {mean_squared_error(y_test, y_pred_xgb)}\")\n",
    "print(f\"RMSE: {mean_squared_error(y_test, y_pred_xgb, squared=False)}\")\n",
    "print(f\"MAE: {mean_absolute_error(y_test, y_pred_xgb)}\")\n",
    "print(f\"R-squared: {r2_score(y_test, y_pred_xgb)}\")"
   ]
  },
  {
   "cell_type": "code",
   "execution_count": 107,
   "metadata": {},
   "outputs": [
    {
     "name": "stdout",
     "output_type": "stream",
     "text": [
      "Best Parameters: {'alpha': 0, 'colsample_bytree': 0.95, 'gamma': 0, 'lambda': 100, 'learning_rate': 0.1, 'max_depth': 7, 'min_child_weight': 4, 'n_estimators': 850, 'scale_pos_weight': 0, 'subsample': 1.0}\n",
      "MSE: 60264518038.18137\n",
      "RMSE: 245488.32566576637\n",
      "MAE: 150520.85948025822\n",
      "R-squared: 0.8474165662155682\n"
     ]
    }
   ],
   "source": [
    "from xgboost import XGBRegressor\n",
    "from sklearn.model_selection import GridSearchCV\n",
    "\n",
    "\n",
    "# Define the parameter grid to search\n",
    "param_grid = {\n",
    "    'learning_rate': [0.1],\n",
    "    'n_estimators': [850],\n",
    "    'max_depth': [7],\n",
    "    'min_child_weight': [4],\n",
    "    'subsample': [1.0],\n",
    "    'colsample_bytree': [0.95],\n",
    "    'gamma': [0],\n",
    "    'lambda': [100],\n",
    "    'alpha': [0],\n",
    "    'scale_pos_weight': [0]\n",
    "}\n",
    "\n",
    "# Initialize the grid search\n",
    "grid_search = GridSearchCV(\n",
    "    estimator=XGBRegressor(random_state=42),\n",
    "    param_grid=param_grid,\n",
    "    scoring='neg_mean_squared_error', \n",
    "    cv=5,  \n",
    "    n_jobs=-1,  # Use all available cores\n",
    ")\n",
    "\n",
    "grid_search.fit(X_train, y_train)\n",
    "\n",
    "# Get the best model\n",
    "best_xgb_model = grid_search.best_estimator_\n",
    "\n",
    "# Predict on the test data using the best model\n",
    "y_pred_xgb = best_xgb_model.predict(X_test)\n",
    "\n",
    "# Evaluate Performance of the best model\n",
    "print(f\"Best Parameters: {grid_search.best_params_}\")\n",
    "print(f\"MSE: {mean_squared_error(y_test, y_pred_xgb)}\")\n",
    "print(f\"RMSE: {mean_squared_error(y_test, y_pred_xgb, squared=False)}\")\n",
    "print(f\"MAE: {mean_absolute_error(y_test, y_pred_xgb)}\")\n",
    "print(f\"R-squared: {r2_score(y_test, y_pred_xgb)}\")"
   ]
  },
  {
   "cell_type": "code",
   "execution_count": 114,
   "metadata": {},
   "outputs": [
    {
     "name": "stdout",
     "output_type": "stream",
     "text": [
      "Best Parameters: {'alpha': 0, 'colsample_bytree': 0.95, 'gamma': 0, 'lambda': 100, 'learning_rate': 0.1, 'max_depth': 7, 'min_child_weight': 4, 'n_estimators': 871, 'scale_pos_weight': 0, 'subsample': 1.0}\n",
      "MSE: 60206606920.5589\n",
      "RMSE: 245370.3464572663\n",
      "MAE: 150448.1761847399\n",
      "R-squared: 0.8475631910865334\n"
     ]
    }
   ],
   "source": [
    "from xgboost import XGBRegressor\n",
    "from sklearn.model_selection import GridSearchCV\n",
    "\n",
    "\n",
    "# Define the parameter grid to search\n",
    "param_grid = {\n",
    "    'learning_rate': [0.1],\n",
    "    'n_estimators': [871],\n",
    "    'max_depth': [7],\n",
    "    'min_child_weight': [4],\n",
    "    'subsample': [1.0],\n",
    "    'colsample_bytree': [0.95],\n",
    "    'gamma': [0],\n",
    "    'lambda': [100],\n",
    "    'alpha': [0],\n",
    "    'scale_pos_weight': [0]\n",
    "}\n",
    "\n",
    "# Initialize the grid search\n",
    "grid_search = GridSearchCV(\n",
    "    estimator=XGBRegressor(random_state=42),\n",
    "    param_grid=param_grid,\n",
    "    scoring='neg_mean_squared_error', \n",
    "    cv=5,  \n",
    "    n_jobs=-1,  # Use all available cores\n",
    ")\n",
    "\n",
    "grid_search.fit(X_train, y_train)\n",
    "\n",
    "# Get the best model\n",
    "best_xgb_model = grid_search.best_estimator_\n",
    "\n",
    "# Predict on the test data using the best model\n",
    "y_pred_xgb = best_xgb_model.predict(X_test)\n",
    "\n",
    "# Evaluate Performance of the best model\n",
    "print(f\"Best Parameters: {grid_search.best_params_}\")\n",
    "print(f\"MSE: {mean_squared_error(y_test, y_pred_xgb)}\")\n",
    "print(f\"RMSE: {mean_squared_error(y_test, y_pred_xgb, squared=False)}\")\n",
    "print(f\"MAE: {mean_absolute_error(y_test, y_pred_xgb)}\")\n",
    "print(f\"R-squared: {r2_score(y_test, y_pred_xgb)}\")"
   ]
  },
  {
   "cell_type": "code",
   "execution_count": 137,
   "metadata": {},
   "outputs": [
    {
     "name": "stdout",
     "output_type": "stream",
     "text": [
      "Best Parameters: {'alpha': 0, 'colsample_bytree': 0.95, 'gamma': 0, 'lambda': 100, 'learning_rate': 0.1, 'max_depth': 7, 'min_child_weight': 5, 'n_estimators': 871, 'scale_pos_weight': 0, 'subsample': 1.0}\n",
      "MSE: 59831183791.15908\n",
      "RMSE: 244604.13690524345\n",
      "MAE: 150529.4726854884\n",
      "R-squared: 0.8485137230424951\n"
     ]
    }
   ],
   "source": [
    "from xgboost import XGBRegressor\n",
    "from sklearn.model_selection import GridSearchCV\n",
    "\n",
    "\n",
    "# Define the parameter grid to search\n",
    "param_grid = {\n",
    "    'learning_rate': [0.1],\n",
    "    'n_estimators': [871],\n",
    "    'max_depth': [7],\n",
    "    'min_child_weight': [5],\n",
    "    'subsample': [1.0],\n",
    "    'colsample_bytree': [0.95],\n",
    "    'gamma': [0],\n",
    "    'lambda': [100],\n",
    "    'alpha': [0],\n",
    "    'scale_pos_weight': [0]\n",
    "}\n",
    "\n",
    "# Initialize the grid search\n",
    "grid_search = GridSearchCV(\n",
    "    estimator=XGBRegressor(random_state=42),\n",
    "    param_grid=param_grid,\n",
    "    scoring='neg_mean_squared_error', \n",
    "    cv=5,  \n",
    "    n_jobs=-1,  # Use all available cores\n",
    ")\n",
    "\n",
    "grid_search.fit(X_train, y_train)\n",
    "\n",
    "# Get the best model\n",
    "best_xgb_model = grid_search.best_estimator_\n",
    "\n",
    "# Predict on the test data using the best model\n",
    "y_pred_xgb = best_xgb_model.predict(X_test)\n",
    "\n",
    "# Evaluate Performance of the best model\n",
    "print(f\"Best Parameters: {grid_search.best_params_}\")\n",
    "print(f\"MSE: {mean_squared_error(y_test, y_pred_xgb)}\")\n",
    "print(f\"RMSE: {mean_squared_error(y_test, y_pred_xgb, squared=False)}\")\n",
    "print(f\"MAE: {mean_absolute_error(y_test, y_pred_xgb)}\")\n",
    "print(f\"R-squared: {r2_score(y_test, y_pred_xgb)}\")"
   ]
  },
  {
   "cell_type": "markdown",
   "metadata": {},
   "source": [
    "Best Parameters: {'alpha': 0, 'colsample_bytree': 0.95, 'gamma': 0, 'lambda': 100, 'learning_rate': 0.1, 'max_depth': 7, 'min_child_weight': 5, 'n_estimators': 871, 'scale_pos_weight': 0, 'subsample': 1.0}"
   ]
  },
  {
   "cell_type": "code",
   "execution_count": 138,
   "metadata": {},
   "outputs": [
    {
     "data": {
      "text/html": [
       "<style>#sk-container-id-2 {color: black;}#sk-container-id-2 pre{padding: 0;}#sk-container-id-2 div.sk-toggleable {background-color: white;}#sk-container-id-2 label.sk-toggleable__label {cursor: pointer;display: block;width: 100%;margin-bottom: 0;padding: 0.3em;box-sizing: border-box;text-align: center;}#sk-container-id-2 label.sk-toggleable__label-arrow:before {content: \"▸\";float: left;margin-right: 0.25em;color: #696969;}#sk-container-id-2 label.sk-toggleable__label-arrow:hover:before {color: black;}#sk-container-id-2 div.sk-estimator:hover label.sk-toggleable__label-arrow:before {color: black;}#sk-container-id-2 div.sk-toggleable__content {max-height: 0;max-width: 0;overflow: hidden;text-align: left;background-color: #f0f8ff;}#sk-container-id-2 div.sk-toggleable__content pre {margin: 0.2em;color: black;border-radius: 0.25em;background-color: #f0f8ff;}#sk-container-id-2 input.sk-toggleable__control:checked~div.sk-toggleable__content {max-height: 200px;max-width: 100%;overflow: auto;}#sk-container-id-2 input.sk-toggleable__control:checked~label.sk-toggleable__label-arrow:before {content: \"▾\";}#sk-container-id-2 div.sk-estimator input.sk-toggleable__control:checked~label.sk-toggleable__label {background-color: #d4ebff;}#sk-container-id-2 div.sk-label input.sk-toggleable__control:checked~label.sk-toggleable__label {background-color: #d4ebff;}#sk-container-id-2 input.sk-hidden--visually {border: 0;clip: rect(1px 1px 1px 1px);clip: rect(1px, 1px, 1px, 1px);height: 1px;margin: -1px;overflow: hidden;padding: 0;position: absolute;width: 1px;}#sk-container-id-2 div.sk-estimator {font-family: monospace;background-color: #f0f8ff;border: 1px dotted black;border-radius: 0.25em;box-sizing: border-box;margin-bottom: 0.5em;}#sk-container-id-2 div.sk-estimator:hover {background-color: #d4ebff;}#sk-container-id-2 div.sk-parallel-item::after {content: \"\";width: 100%;border-bottom: 1px solid gray;flex-grow: 1;}#sk-container-id-2 div.sk-label:hover label.sk-toggleable__label {background-color: #d4ebff;}#sk-container-id-2 div.sk-serial::before {content: \"\";position: absolute;border-left: 1px solid gray;box-sizing: border-box;top: 0;bottom: 0;left: 50%;z-index: 0;}#sk-container-id-2 div.sk-serial {display: flex;flex-direction: column;align-items: center;background-color: white;padding-right: 0.2em;padding-left: 0.2em;position: relative;}#sk-container-id-2 div.sk-item {position: relative;z-index: 1;}#sk-container-id-2 div.sk-parallel {display: flex;align-items: stretch;justify-content: center;background-color: white;position: relative;}#sk-container-id-2 div.sk-item::before, #sk-container-id-2 div.sk-parallel-item::before {content: \"\";position: absolute;border-left: 1px solid gray;box-sizing: border-box;top: 0;bottom: 0;left: 50%;z-index: -1;}#sk-container-id-2 div.sk-parallel-item {display: flex;flex-direction: column;z-index: 1;position: relative;background-color: white;}#sk-container-id-2 div.sk-parallel-item:first-child::after {align-self: flex-end;width: 50%;}#sk-container-id-2 div.sk-parallel-item:last-child::after {align-self: flex-start;width: 50%;}#sk-container-id-2 div.sk-parallel-item:only-child::after {width: 0;}#sk-container-id-2 div.sk-dashed-wrapped {border: 1px dashed gray;margin: 0 0.4em 0.5em 0.4em;box-sizing: border-box;padding-bottom: 0.4em;background-color: white;}#sk-container-id-2 div.sk-label label {font-family: monospace;font-weight: bold;display: inline-block;line-height: 1.2em;}#sk-container-id-2 div.sk-label-container {text-align: center;}#sk-container-id-2 div.sk-container {/* jupyter's `normalize.less` sets `[hidden] { display: none; }` but bootstrap.min.css set `[hidden] { display: none !important; }` so we also need the `!important` here to be able to override the default hidden behavior on the sphinx rendered scikit-learn.org. See: https://github.com/scikit-learn/scikit-learn/issues/21755 */display: inline-block !important;position: relative;}#sk-container-id-2 div.sk-text-repr-fallback {display: none;}</style><div id=\"sk-container-id-2\" class=\"sk-top-container\"><div class=\"sk-text-repr-fallback\"><pre>XGBRegressor(alpha=0, base_score=None, booster=None, callbacks=None,\n",
       "             colsample_bylevel=None, colsample_bynode=None,\n",
       "             colsample_bytree=0.95, device=None, early_stopping_rounds=None,\n",
       "             enable_categorical=False, eval_metric=None, feature_types=None,\n",
       "             gamma=0, grow_policy=None, importance_type=None,\n",
       "             interaction_constraints=None, lambda=100, learning_rate=0.1,\n",
       "             max_bin=None, max_cat_threshold=None, max_cat_to_onehot=None,\n",
       "             max_delta_step=None, max_depth=7, max_leaves=None,\n",
       "             min_child_weight=5, missing=nan, monotone_constraints=None,\n",
       "             multi_strategy=None, n_estimators=871, n_jobs=None, ...)</pre><b>In a Jupyter environment, please rerun this cell to show the HTML representation or trust the notebook. <br />On GitHub, the HTML representation is unable to render, please try loading this page with nbviewer.org.</b></div><div class=\"sk-container\" hidden><div class=\"sk-item\"><div class=\"sk-estimator sk-toggleable\"><input class=\"sk-toggleable__control sk-hidden--visually\" id=\"sk-estimator-id-2\" type=\"checkbox\" checked><label for=\"sk-estimator-id-2\" class=\"sk-toggleable__label sk-toggleable__label-arrow\">XGBRegressor</label><div class=\"sk-toggleable__content\"><pre>XGBRegressor(alpha=0, base_score=None, booster=None, callbacks=None,\n",
       "             colsample_bylevel=None, colsample_bynode=None,\n",
       "             colsample_bytree=0.95, device=None, early_stopping_rounds=None,\n",
       "             enable_categorical=False, eval_metric=None, feature_types=None,\n",
       "             gamma=0, grow_policy=None, importance_type=None,\n",
       "             interaction_constraints=None, lambda=100, learning_rate=0.1,\n",
       "             max_bin=None, max_cat_threshold=None, max_cat_to_onehot=None,\n",
       "             max_delta_step=None, max_depth=7, max_leaves=None,\n",
       "             min_child_weight=5, missing=nan, monotone_constraints=None,\n",
       "             multi_strategy=None, n_estimators=871, n_jobs=None, ...)</pre></div></div></div></div></div>"
      ],
      "text/plain": [
       "XGBRegressor(alpha=0, base_score=None, booster=None, callbacks=None,\n",
       "             colsample_bylevel=None, colsample_bynode=None,\n",
       "             colsample_bytree=0.95, device=None, early_stopping_rounds=None,\n",
       "             enable_categorical=False, eval_metric=None, feature_types=None,\n",
       "             gamma=0, grow_policy=None, importance_type=None,\n",
       "             interaction_constraints=None, lambda=100, learning_rate=0.1,\n",
       "             max_bin=None, max_cat_threshold=None, max_cat_to_onehot=None,\n",
       "             max_delta_step=None, max_depth=7, max_leaves=None,\n",
       "             min_child_weight=5, missing=nan, monotone_constraints=None,\n",
       "             multi_strategy=None, n_estimators=871, n_jobs=None, ...)"
      ]
     },
     "execution_count": 138,
     "metadata": {},
     "output_type": "execute_result"
    }
   ],
   "source": [
    "best_xgb_model"
   ]
  },
  {
   "cell_type": "code",
   "execution_count": 139,
   "metadata": {},
   "outputs": [
    {
     "data": {
      "image/png": "[encoded data removed]",
      "text/plain": [
       "<Figure size 1000x800 with 1 Axes>"
      ]
     },
     "metadata": {},
     "output_type": "display_data"
    }
   ],
   "source": [
    "from sklearn.model_selection import learning_curve\n",
    "import matplotlib.pyplot as plt\n",
    "\n",
    "train_sizes, train_scores, test_scores = learning_curve(\n",
    "    estimator=best_xgb_model,\n",
    "    X=X,\n",
    "    y=y,\n",
    "    cv=5,\n",
    "    scoring=\"r2\",\n",
    "    train_sizes=[0.1, 0.2, 0.3, 0.4, 0.5, 0.6, 0.7, 0.8, 0.9, 1]\n",
    ")\n",
    "\n",
    "train_mean = train_scores.mean(axis=1)\n",
    "test_mean = test_scores.mean(axis=1)\n",
    "\n",
    "plt.subplots(figsize=(10, 8))\n",
    "plt.plot(train_sizes, train_mean, label=\"Train\")\n",
    "plt.plot(train_sizes, test_mean, label=\"Validation\")\n",
    "\n",
    "plt.title(\"Best XGBoost Learning Curve\")\n",
    "plt.xlabel(\"Training Set Size\")\n",
    "plt.ylabel(\"R-Squared\")\n",
    "plt.legend(loc=\"best\")\n",
    "plt.ylim(-1.3, 1.3)\n",
    "\n",
    "plt.show()"
   ]
  },
  {
   "cell_type": "markdown",
   "metadata": {},
   "source": [
    "## Whats Left\n",
    "\n",
    "Metrics\n",
    "Compare (Should be easy, did most) : Which Model to select\n",
    "\n",
    "Challenges Faced\n",
    "\n",
    "Next Steps for deploying (ie mention keeping up to date)\n",
    "\n",
    "Future Improvements - Additional Data? Etc"
   ]
  }
 ],
 "metadata": {
  "kernelspec": {
   "display_name": "Python 3",
   "language": "python",
   "name": "python3"
  },
  "language_info": {
   "codemirror_mode": {
    "name": "ipython",
    "version": 3
   },
   "file_extension": ".py",
   "mimetype": "text/x-python",
   "name": "python",
   "nbconvert_exporter": "python",
   "pygments_lexer": "ipython3",
   "version": "3.10.12"
  }
 },
 "nbformat": 4,
 "nbformat_minor": 2
}
